{
  "nbformat": 4,
  "nbformat_minor": 0,
  "metadata": {
    "colab": {
      "provenance": [],
      "authorship_tag": "ABX9TyOJMbjPm0nWRpv6VBrmTTwa",
      "include_colab_link": true
    },
    "kernelspec": {
      "name": "python3",
      "display_name": "Python 3"
    },
    "language_info": {
      "name": "python"
    }
  },
  "cells": [
    {
      "cell_type": "markdown",
      "metadata": {
        "id": "view-in-github",
        "colab_type": "text"
      },
      "source": [
        "<a href=\"https://colab.research.google.com/github/sandhrabijoy/Pytorch-and-ML-learning/blob/master/pytorch_practicce3.ipynb\" target=\"_parent\"><img src=\"https://colab.research.google.com/assets/colab-badge.svg\" alt=\"Open In Colab\"/></a>"
      ]
    },
    {
      "cell_type": "code",
      "execution_count": 2,
      "metadata": {
        "id": "OaQz1DwHyxTU"
      },
      "outputs": [],
      "source": [
        "import numpy as np, pandas as pd, pylab as pl\n",
        "import h5py,torch,re\n",
        "from tensorflow import image as timage\n",
        "from torchvision.datasets import CIFAR10 as tcifar10\n",
        "from torchvision import transforms,utils\n",
        "from torch.utils.data import DataLoader as tdl\n",
        "from torch.utils.data import Dataset as tds\n",
        "from torch.utils.data.dataset import Subset\n",
        "import torch.nn as tnn\n",
        "import torch.utils.checkpoint as tcp\n",
        "from collections import OrderedDict as od\n",
        "from IPython.core.magic import register_line_magic\n",
        "dev= torch.device(\"cuda:0\" if torch.cuda.is_available() else \"cpu\")"
      ]
    },
    {
      "cell_type": "code",
      "source": [
        "class TData(tds):\n",
        "  def __init__(self,X,y):\n",
        "    self.X=torch.tensor(X,dtype=torch.float32)\n",
        "    self.y=torch.tensor(y,dtype=torch.int32)\n",
        "  def __getitem__(self, index):\n",
        "    train_img,train_lbl=self.X[index],self.y[index]\n",
        "    return train_img,train_lbl\n",
        "  def __len__(self):\n",
        "    return self.y.shape[0]"
      ],
      "metadata": {
        "id": "BjUyIpZs0-Kf"
      },
      "execution_count": 3,
      "outputs": []
    },
    {
      "cell_type": "code",
      "source": [
        "\n"
      ],
      "metadata": {
        "id": "rLFjGUdr3jQa"
      },
      "execution_count": null,
      "outputs": []
    }
  ]
}