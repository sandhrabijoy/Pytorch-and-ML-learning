{
  "nbformat": 4,
  "nbformat_minor": 0,
  "metadata": {
    "colab": {
      "provenance": [],
      "authorship_tag": "ABX9TyMAw4adN86g+fImQBw7duNt",
      "include_colab_link": true
    },
    "kernelspec": {
      "name": "python3",
      "display_name": "Python 3"
    },
    "language_info": {
      "name": "python"
    }
  },
  "cells": [
    {
      "cell_type": "markdown",
      "metadata": {
        "id": "view-in-github",
        "colab_type": "text"
      },
      "source": [
        "<a href=\"https://colab.research.google.com/github/sandhrabijoy/Pytorch-and-ML-learning/blob/master/pytorch_practicce3.ipynb\" target=\"_parent\"><img src=\"https://colab.research.google.com/assets/colab-badge.svg\" alt=\"Open In Colab\"/></a>"
      ]
    },
    {
      "cell_type": "code",
      "execution_count": 12,
      "metadata": {
        "id": "OaQz1DwHyxTU"
      },
      "outputs": [],
      "source": [
        "import numpy as np, pandas as pd, pylab as pl\n",
        "import h5py,torch,re\n",
        "from tensorflow import image as timage\n",
        "from torchvision.datasets import CIFAR10 as tcifar10\n",
        "from torchvision import transforms,utils\n",
        "from torch.utils.data import DataLoader as tdl\n",
        "from torch.utils.data import Dataset as tds\n",
        "from torch.utils.data.dataset import Subset\n",
        "import torch.nn as tnn\n",
        "import torch.utils.checkpoint as tcp\n",
        "from collections import OrderedDict as od\n",
        "from IPython.core.magic import register_line_magic\n",
        "dev= torch.device(\"cuda:0\" if torch.cuda.is_available() else \"cpu\")"
      ]
    },
    {
      "cell_type": "code",
      "source": [
        "class TData(tds):\n",
        "  def __init__(self,X,y):\n",
        "    self.X=torch.tensor(X,dtype=torch.float32)\n",
        "    self.y=torch.tensor(y,dtype=torch.int32)\n",
        "  def __getitem__(self, index):\n",
        "    train_img,train_lbl=self.X[index],self.y[index]\n",
        "    return train_img,train_lbl\n",
        "  def __len__(self):\n",
        "    return self.y.shape[0]"
      ],
      "metadata": {
        "id": "BjUyIpZs0-Kf"
      },
      "execution_count": 13,
      "outputs": []
    },
    {
      "cell_type": "code",
      "source": [
        "def load_h5py(path,img_size):\n",
        "  f=h5py.File(path,'r')\n",
        "  keys=list(f.keys());print(keys)\n",
        "  x=np.array(f[keys[1]],dtype='float32')/255\n",
        "  x=x.reshape(-1,3,img_size,img_size)\n",
        "  y=np.array(f[keys[2]],dtype='int32')-1\n",
        "  N=len(y);n=int(.2*N)\n",
        "  shuffle_ids=np.arange(N)\n",
        "  np.random.RandomState(23).shuffle(shuffle_ids)\n",
        "  x,y=x[shuffle_ids],y[shuffle_ids]\n",
        "  x_test,x_valid,x_train=x[:n],x[n:2*n],x[2*n:]\n",
        "  y_test,y_valid,y_train=y[:n],y[n:2*n],y[2*n:]\n",
        "\n",
        "  df=pd.DataFrame([[x_train.shape,x_valid.shape,x_test.shape],[x_train.dtype,x_valid.dtype,x_test.dtype],[y_train.shape,y_valid.shape,y_test.shape],[y_train.dtype,y_valid.dtype,y_test.dtype]],\n",
        "                  columns=['train,valid','test'],index=['image shape','image type','label shape','label type'])\n",
        "  display(df)\n",
        "  return[[x_train,x_valid,x_test],[y_train,y_valid,y_test]]\n"
      ],
      "metadata": {
        "id": "rLFjGUdr3jQa"
      },
      "execution_count": 14,
      "outputs": []
    },
    {
      "cell_type": "code",
      "source": [
        "def display_examples(data_loader,img_size):\n",
        "  for images,labels in data_loader:\n",
        "    print('Image dimensions:%s'%str(images.shape))\n",
        "    print('Label dimensions:%s'%str(labels.shape))\n",
        "    n=np.random.randint(1,50)\n",
        "    fig=pl.figure(figsize=(11,4))\n",
        "    for i in range(n,n+5):\n",
        "      ax=fig.add_subplot(1,5,i-n+1,xticks=[],yticks=[],title=labels[i].item())\n",
        "      ax.imshow((images[i]).reshape(img_size,img_size,3))\n",
        "      break\n",
        "def show_image(img):\n",
        "  npimg=img.numpy()/2.+.5;tr=(1,2,0)\n",
        "  pl.figure(figsize=(10,2))\n",
        "  pl.imshow(np.transpose(npimg,tr))\n",
        "  pl.xticks([]);pl.show()\n",
        "\n",
        "def show_examples(data_loader,classes,num_examples):\n",
        "  dataiter=iter(data_loader)\n",
        "  images,labels=dataiter.next()\n",
        "  show_image(utils.make_grid(images[0:num_examples]))\n",
        "  print('^'.join(('%9s'%classes[labels[j]]for j in range(num_examples)),end='^'))"
      ],
      "metadata": {
        "id": "-xsRdty797wT"
      },
      "execution_count": 15,
      "outputs": []
    },
    {
      "cell_type": "code",
      "source": [
        "def model_acc(model,data_loader):\n",
        "  model.eval()\n",
        "  correct_preds,num_examples=0,0\n",
        "  for features,targets in data_loader:\n",
        "    features=features.to(dev)\n",
        "    targets=targets.to(dev)\n",
        "    logits,probs=model(features)\n",
        "    _,pred_labels=torch.max(probs,1)\n",
        "    num_examples+=targets.size(0)\n",
        "    correct_preds+=(pred_labels==targets).sum()\n",
        "  return correct_preds.float()/num_examples*100\n",
        "\n",
        "@register_line_magic\n",
        "def print_acc(n):\n",
        "  if int(n)==1:\n",
        "    data_loader=[train_loader,valid_loader,test_loader]\n",
        "  if int(n)==2:\n",
        "    data_loader=[train_loader2,valid_loader2,test_loader2]\n",
        "  print('Train accuracy:%.4f%%'%(model_acc(model,data_loader[0])))\n",
        "  print('Valid acccuracy:%.4f%%'%(model_acc(model,data_loader[1])))\n",
        "  print('Test acccuracy:%.4f%%'%(model_acc(model,data_loader[2])))"
      ],
      "metadata": {
        "id": "rwiTY-4FBffp"
      },
      "execution_count": 16,
      "outputs": []
    },
    {
      "cell_type": "code",
      "source": [
        "#data\n",
        "random_seed=12;batch_size=128\n",
        "train_ids=torch.arange(0,44000)\n",
        "valid_ids=torch.arange(44000,50000)\n",
        "tr0=(.5,.5,.5)\n",
        "transform=transforms.Compose([transforms.ToTensor(),transforms.Normalize(tr0,tr0)])\n",
        "train_valid=tcifar10(root='data',transform=transform,download=True,train=True)\n",
        "train=Subset(train_valid,train_ids)\n",
        "valid=Subset(train_valid,valid_ids)\n",
        "test=tcifar10(root='data',train=False,transform=transform)\n",
        "train_loader=tdl(dataset=train,shuffle=True,batch_size=batch_size)\n",
        "valid_loader=tdl(dataset=valid,shuffle=True,batch_size=batch_size)\n",
        "test_loader=tdl(dataset=test,shuffle=False,batch_size=batch_size)\n",
        "\n"
      ],
      "metadata": {
        "colab": {
          "base_uri": "https://localhost:8080/"
        },
        "id": "ttrnp_v2EWaK",
        "outputId": "5ec2c320-1bb2-47d4-eab8-dbec61558d79"
      },
      "execution_count": 17,
      "outputs": [
        {
          "output_type": "stream",
          "name": "stdout",
          "text": [
            "Files already downloaded and verified\n"
          ]
        }
      ]
    },
    {
      "cell_type": "code",
      "source": [],
      "metadata": {
        "id": "t8oncKGtKr-7"
      },
      "execution_count": 17,
      "outputs": []
    }
  ]
}