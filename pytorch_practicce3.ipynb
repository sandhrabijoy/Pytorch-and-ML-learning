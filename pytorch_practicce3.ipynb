{
  "nbformat": 4,
  "nbformat_minor": 0,
  "metadata": {
    "colab": {
      "provenance": [],
      "mount_file_id": "1LcmnbOvmFvRpUwtyK9Mn5ROENdMHFWK9",
      "authorship_tag": "ABX9TyNaxdxQu9X+Nx9/kBgXizoO",
      "include_colab_link": true
    },
    "kernelspec": {
      "name": "python3",
      "display_name": "Python 3"
    },
    "language_info": {
      "name": "python"
    }
  },
  "cells": [
    {
      "cell_type": "markdown",
      "metadata": {
        "id": "view-in-github",
        "colab_type": "text"
      },
      "source": [
        "<a href=\"https://colab.research.google.com/github/sandhrabijoy/Pytorch-and-ML-learning/blob/master/pytorch_practicce3.ipynb\" target=\"_parent\"><img src=\"https://colab.research.google.com/assets/colab-badge.svg\" alt=\"Open In Colab\"/></a>"
      ]
    },
    {
      "cell_type": "code",
      "execution_count": 2,
      "metadata": {
        "id": "OaQz1DwHyxTU"
      },
      "outputs": [],
      "source": [
        "import numpy as np, pandas as pd, pylab as pl\n",
        "import h5py,torch,re\n",
        "from tensorflow import image as timage\n",
        "from torchvision.datasets import CIFAR10 as tcifar10\n",
        "from torchvision import transforms,utils\n",
        "from torch.utils.data import DataLoader as tdl\n",
        "from torch.utils.data import Dataset as tds\n",
        "from torch.utils.data.dataset import Subset\n",
        "import torch.nn as tnn\n",
        "import torch.utils.checkpoint as tcp\n",
        "from collections import OrderedDict as od\n",
        "from IPython.core.magic import register_line_magic\n",
        "dev= torch.device(\"cuda:0\" if torch.cuda.is_available() else \"cpu\")"
      ]
    },
    {
      "cell_type": "code",
      "source": [
        "class TData(tds):\n",
        "  def __init__(self,X,y):\n",
        "    self.X=torch.tensor(X,dtype=torch.float32)\n",
        "    self.y=torch.tensor(y,dtype=torch.int32)\n",
        "  def __getitem__(self, index):\n",
        "    train_img,train_lbl=self.X[index],self.y[index]\n",
        "    return train_img,train_lbl\n",
        "  def __len__(self):\n",
        "    return self.y.shape[0]"
      ],
      "metadata": {
        "id": "BjUyIpZs0-Kf"
      },
      "execution_count": 3,
      "outputs": []
    },
    {
      "cell_type": "code",
      "source": [
        "def load_h5py(path,img_size):\n",
        "  f=h5py.File(path,'r')\n",
        "  keys=list(f.keys());print(keys)\n",
        "  x=np.array(f[keys[1]],dtype='float32')/255\n",
        "  x=x.reshape(-1,3,img_size,img_size)\n",
        "  y=np.array(f[keys[2]],dtype='int32')-1\n",
        "  N=len(y);n=int(.2*N)\n",
        "  shuffle_ids=np.arange(N)\n",
        "  np.random.RandomState(23).shuffle(shuffle_ids)\n",
        "  x,y=x[shuffle_ids],y[shuffle_ids]\n",
        "  x_test,x_valid,x_train=x[:n],x[n:2*n],x[2*n:]\n",
        "  y_test,y_valid,y_train=y[:n],y[n:2*n],y[2*n:]\n",
        "\n",
        "  df=pd.DataFrame([[x_train.shape,x_valid.shape,x_test.shape],[x_train.dtype,x_valid.dtype,x_test.dtype],[y_train.shape,y_valid.shape,y_test.shape],[y_train.dtype,y_valid.dtype,y_test.dtype]],\n",
        "                  columns=['train','valid','test'],index=['image shape','image type','label shape','label type'])\n",
        "  display(df)\n",
        "  return[[x_train,x_valid,x_test],[y_train,y_valid,y_test]]\n"
      ],
      "metadata": {
        "id": "rLFjGUdr3jQa"
      },
      "execution_count": 4,
      "outputs": []
    },
    {
      "cell_type": "code",
      "source": [
        "def display_examples(data_loader,img_size):\n",
        "  for images,labels in data_loader:\n",
        "    print('Image dimensions:%s'%str(images.shape))\n",
        "    print('Label dimensions:%s'%str(labels.shape))\n",
        "    n=np.random.randint(1,50)\n",
        "    fig=pl.figure(figsize=(11,4))\n",
        "    for i in range(n,n+5):\n",
        "      ax=fig.add_subplot(1,5,i-n+1,xticks=[],yticks=[],title=labels[i].item())\n",
        "      ax.imshow((images[i]).reshape(img_size,img_size,3))\n",
        "      break\n",
        "def show_image(img):\n",
        "  npimg=img.numpy()/2.+.5;tr=(1,2,0)\n",
        "  pl.figure(figsize=(10,2))\n",
        "  pl.imshow(np.transpose(npimg,tr))\n",
        "  pl.xticks([]);pl.show()\n",
        "\n",
        "def show_examples(data_loader,classes,num_examples):\n",
        "  dataiter=iter(data_loader)\n",
        "  images,labels=next(dataiter)\n",
        "  show_image(utils.make_grid(images[0:num_examples]))\n",
        "  print('^'.join(('%9s' % classes[labels[j]] for j in range(num_examples))), end='^')"
      ],
      "metadata": {
        "id": "-xsRdty797wT"
      },
      "execution_count": 5,
      "outputs": []
    },
    {
      "cell_type": "code",
      "source": [
        "def model_acc(model,data_loader):\n",
        "  model.eval()\n",
        "  correct_preds,num_examples=0,0\n",
        "  for features,targets in data_loader:\n",
        "    features=features.to(dev)\n",
        "    targets=targets.to(dev)\n",
        "    logits,probs=model(features)\n",
        "    _,pred_labels=torch.max(probs,1)\n",
        "    num_examples+=targets.size(0)\n",
        "    correct_preds+=(pred_labels==targets).sum()\n",
        "  return correct_preds.float()/num_examples*100\n",
        "\n",
        "@register_line_magic\n",
        "def print_acc(n):\n",
        "  if int(n)==1:\n",
        "    data_loader=[train_loader,valid_loader,test_loader]\n",
        "  if int(n)==2:\n",
        "    data_loader=[train_loader2,valid_loader2,test_loader2]\n",
        "  print('Train accuracy:%.4f%%'%(model_acc(model,data_loader[0])))\n",
        "  print('Valid acccuracy:%.4f%%'%(model_acc(model,data_loader[1])))\n",
        "  print('Test acccuracy:%.4f%%'%(model_acc(model,data_loader[2])))"
      ],
      "metadata": {
        "id": "rwiTY-4FBffp"
      },
      "execution_count": 6,
      "outputs": []
    },
    {
      "cell_type": "code",
      "source": [
        "#data\n",
        "random_seed=12;batch_size=128\n",
        "train_ids=torch.arange(0,44000)\n",
        "valid_ids=torch.arange(44000,50000)\n",
        "tr0=(.5,.5,.5)\n",
        "transform=transforms.Compose([transforms.ToTensor(),transforms.Normalize(tr0,tr0)])\n",
        "train_valid=tcifar10(root='data',transform=transform,download=True,train=True)\n",
        "train=Subset(train_valid,train_ids)\n",
        "valid=Subset(train_valid,valid_ids)\n",
        "test=tcifar10(root='data',train=False,transform=transform)\n",
        "train_loader=tdl(dataset=train,shuffle=True,batch_size=batch_size)\n",
        "valid_loader=tdl(dataset=valid,shuffle=True,batch_size=batch_size)\n",
        "test_loader=tdl(dataset=test,shuffle=False,batch_size=batch_size)\n",
        "\n"
      ],
      "metadata": {
        "colab": {
          "base_uri": "https://localhost:8080/"
        },
        "id": "ttrnp_v2EWaK",
        "outputId": "b6c96554-b53f-40aa-838b-7984aef59930"
      },
      "execution_count": 7,
      "outputs": [
        {
          "output_type": "stream",
          "name": "stdout",
          "text": [
            "Downloading https://www.cs.toronto.edu/~kriz/cifar-10-python.tar.gz to data/cifar-10-python.tar.gz\n"
          ]
        },
        {
          "output_type": "stream",
          "name": "stderr",
          "text": [
            "100%|██████████| 170M/170M [00:02<00:00, 63.4MB/s]\n"
          ]
        },
        {
          "output_type": "stream",
          "name": "stdout",
          "text": [
            "Extracting data/cifar-10-python.tar.gz to data\n"
          ]
        }
      ]
    },
    {
      "cell_type": "code",
      "source": [
        "classes=('plane','car','bird','cat','deer','dog','frog','horse','ship','truck')\n",
        "show_examples(valid_loader,classes,7)"
      ],
      "metadata": {
        "colab": {
          "base_uri": "https://localhost:8080/",
          "height": 174
        },
        "id": "t8oncKGtKr-7",
        "outputId": "7b3ba073-f837-47af-9016-69dcf27fa7c9"
      },
      "execution_count": 8,
      "outputs": [
        {
          "output_type": "display_data",
          "data": {
            "text/plain": [
              "<Figure size 1000x200 with 1 Axes>"
            ],
            "image/png": "[encoded data removed]"
          },
          "metadata": {}
        },
        {
          "output_type": "stream",
          "name": "stdout",
          "text": [
            "      dog^      dog^     ship^     frog^      car^    plane^      dog^"
          ]
        }
      ]
    },
    {
      "cell_type": "code",
      "source": [
        "fpath='/content/LetterColorImages.h5'\n",
        "\n",
        "[[x_train,x_valid,x_test], [y_train,y_valid,y_test]]=load_h5py(fpath,32)"
      ],
      "metadata": {
        "colab": {
          "base_uri": "https://localhost:8080/",
          "height": 192
        },
        "id": "LwycWUYDLUpX",
        "outputId": "c18a636b-c57a-4cb1-ea73-d52bac684c13"
      },
      "execution_count": 10,
      "outputs": [
        {
          "output_type": "stream",
          "name": "stdout",
          "text": [
            "['backgrounds', 'images', 'labels']\n"
          ]
        },
        {
          "output_type": "display_data",
          "data": {
            "text/plain": [
              "                        train             valid              test\n",
              "image shape  (990, 3, 32, 32)  (330, 3, 32, 32)  (330, 3, 32, 32)\n",
              "image type            float32           float32           float32\n",
              "label shape            (990,)            (330,)            (330,)\n",
              "label type              int32             int32             int32"
            ],
            "text/html": [
              "\n",
              "  <div id=\"df-ff4c45c0-8af4-40f5-8294-129f918ec5a2\" class=\"colab-df-container\">\n",
              "    <div>\n",
              "<style scoped>\n",
              "    .dataframe tbody tr th:only-of-type {\n",
              "        vertical-align: middle;\n",
              "    }\n",
              "\n",
              "    .dataframe tbody tr th {\n",
              "        vertical-align: top;\n",
              "    }\n",
              "\n",
              "    .dataframe thead th {\n",
              "        text-align: right;\n",
              "    }\n",
              "</style>\n",
              "<table border=\"1\" class=\"dataframe\">\n",
              "  <thead>\n",
              "    <tr style=\"text-align: right;\">\n",
              "      <th></th>\n",
              "      <th>train</th>\n",
              "      <th>valid</th>\n",
              "      <th>test</th>\n",
              "    </tr>\n",
              "  </thead>\n",
              "  <tbody>\n",
              "    <tr>\n",
              "      <th>image shape</th>\n",
              "      <td>(990, 3, 32, 32)</td>\n",
              "      <td>(330, 3, 32, 32)</td>\n",
              "      <td>(330, 3, 32, 32)</td>\n",
              "    </tr>\n",
              "    <tr>\n",
              "      <th>image type</th>\n",
              "      <td>float32</td>\n",
              "      <td>float32</td>\n",
              "      <td>float32</td>\n",
              "    </tr>\n",
              "    <tr>\n",
              "      <th>label shape</th>\n",
              "      <td>(990,)</td>\n",
              "      <td>(330,)</td>\n",
              "      <td>(330,)</td>\n",
              "    </tr>\n",
              "    <tr>\n",
              "      <th>label type</th>\n",
              "      <td>int32</td>\n",
              "      <td>int32</td>\n",
              "      <td>int32</td>\n",
              "    </tr>\n",
              "  </tbody>\n",
              "</table>\n",
              "</div>\n",
              "    <div class=\"colab-df-buttons\">\n",
              "\n",
              "  <div class=\"colab-df-container\">\n",
              "    <button class=\"colab-df-convert\" onclick=\"convertToInteractive('df-ff4c45c0-8af4-40f5-8294-129f918ec5a2')\"\n",
              "            title=\"Convert this dataframe to an interactive table.\"\n",
              "            style=\"display:none;\">\n",
              "\n",
              "  <svg xmlns=\"http://www.w3.org/2000/svg\" height=\"24px\" viewBox=\"0 -960 960 960\">\n",
              "    <path d=\"M120-120v-720h720v720H120Zm60-500h600v-160H180v160Zm220 220h160v-160H400v160Zm0 220h160v-160H400v160ZM180-400h160v-160H180v160Zm440 0h160v-160H620v160ZM180-180h160v-160H180v160Zm440 0h160v-160H620v160Z\"/>\n",
              "  </svg>\n",
              "    </button>\n",
              "\n",
              "  <style>\n",
              "    .colab-df-container {\n",
              "      display:flex;\n",
              "      gap: 12px;\n",
              "    }\n",
              "\n",
              "    .colab-df-convert {\n",
              "      background-color: #E8F0FE;\n",
              "      border: none;\n",
              "      border-radius: 50%;\n",
              "      cursor: pointer;\n",
              "      display: none;\n",
              "      fill: #1967D2;\n",
              "      height: 32px;\n",
              "      padding: 0 0 0 0;\n",
              "      width: 32px;\n",
              "    }\n",
              "\n",
              "    .colab-df-convert:hover {\n",
              "      background-color: #E2EBFA;\n",
              "      box-shadow: 0px 1px 2px rgba(60, 64, 67, 0.3), 0px 1px 3px 1px rgba(60, 64, 67, 0.15);\n",
              "      fill: #174EA6;\n",
              "    }\n",
              "\n",
              "    .colab-df-buttons div {\n",
              "      margin-bottom: 4px;\n",
              "    }\n",
              "\n",
              "    [theme=dark] .colab-df-convert {\n",
              "      background-color: #3B4455;\n",
              "      fill: #D2E3FC;\n",
              "    }\n",
              "\n",
              "    [theme=dark] .colab-df-convert:hover {\n",
              "      background-color: #434B5C;\n",
              "      box-shadow: 0px 1px 3px 1px rgba(0, 0, 0, 0.15);\n",
              "      filter: drop-shadow(0px 1px 2px rgba(0, 0, 0, 0.3));\n",
              "      fill: #FFFFFF;\n",
              "    }\n",
              "  </style>\n",
              "\n",
              "    <script>\n",
              "      const buttonEl =\n",
              "        document.querySelector('#df-ff4c45c0-8af4-40f5-8294-129f918ec5a2 button.colab-df-convert');\n",
              "      buttonEl.style.display =\n",
              "        google.colab.kernel.accessAllowed ? 'block' : 'none';\n",
              "\n",
              "      async function convertToInteractive(key) {\n",
              "        const element = document.querySelector('#df-ff4c45c0-8af4-40f5-8294-129f918ec5a2');\n",
              "        const dataTable =\n",
              "          await google.colab.kernel.invokeFunction('convertToInteractive',\n",
              "                                                    [key], {});\n",
              "        if (!dataTable) return;\n",
              "\n",
              "        const docLinkHtml = 'Like what you see? Visit the ' +\n",
              "          '<a target=\"_blank\" href=https://colab.research.google.com/notebooks/data_table.ipynb>data table notebook</a>'\n",
              "          + ' to learn more about interactive tables.';\n",
              "        element.innerHTML = '';\n",
              "        dataTable['output_type'] = 'display_data';\n",
              "        await google.colab.output.renderOutput(dataTable, element);\n",
              "        const docLink = document.createElement('div');\n",
              "        docLink.innerHTML = docLinkHtml;\n",
              "        element.appendChild(docLink);\n",
              "      }\n",
              "    </script>\n",
              "  </div>\n",
              "\n",
              "\n",
              "<div id=\"df-3fa6dfea-56ac-4330-92fd-fed8104aff77\">\n",
              "  <button class=\"colab-df-quickchart\" onclick=\"quickchart('df-3fa6dfea-56ac-4330-92fd-fed8104aff77')\"\n",
              "            title=\"Suggest charts\"\n",
              "            style=\"display:none;\">\n",
              "\n",
              "<svg xmlns=\"http://www.w3.org/2000/svg\" height=\"24px\"viewBox=\"0 0 24 24\"\n",
              "     width=\"24px\">\n",
              "    <g>\n",
              "        <path d=\"M19 3H5c-1.1 0-2 .9-2 2v14c0 1.1.9 2 2 2h14c1.1 0 2-.9 2-2V5c0-1.1-.9-2-2-2zM9 17H7v-7h2v7zm4 0h-2V7h2v10zm4 0h-2v-4h2v4z\"/>\n",
              "    </g>\n",
              "</svg>\n",
              "  </button>\n",
              "\n",
              "<style>\n",
              "  .colab-df-quickchart {\n",
              "      --bg-color: #E8F0FE;\n",
              "      --fill-color: #1967D2;\n",
              "      --hover-bg-color: #E2EBFA;\n",
              "      --hover-fill-color: #174EA6;\n",
              "      --disabled-fill-color: #AAA;\n",
              "      --disabled-bg-color: #DDD;\n",
              "  }\n",
              "\n",
              "  [theme=dark] .colab-df-quickchart {\n",
              "      --bg-color: #3B4455;\n",
              "      --fill-color: #D2E3FC;\n",
              "      --hover-bg-color: #434B5C;\n",
              "      --hover-fill-color: #FFFFFF;\n",
              "      --disabled-bg-color: #3B4455;\n",
              "      --disabled-fill-color: #666;\n",
              "  }\n",
              "\n",
              "  .colab-df-quickchart {\n",
              "    background-color: var(--bg-color);\n",
              "    border: none;\n",
              "    border-radius: 50%;\n",
              "    cursor: pointer;\n",
              "    display: none;\n",
              "    fill: var(--fill-color);\n",
              "    height: 32px;\n",
              "    padding: 0;\n",
              "    width: 32px;\n",
              "  }\n",
              "\n",
              "  .colab-df-quickchart:hover {\n",
              "    background-color: var(--hover-bg-color);\n",
              "    box-shadow: 0 1px 2px rgba(60, 64, 67, 0.3), 0 1px 3px 1px rgba(60, 64, 67, 0.15);\n",
              "    fill: var(--button-hover-fill-color);\n",
              "  }\n",
              "\n",
              "  .colab-df-quickchart-complete:disabled,\n",
              "  .colab-df-quickchart-complete:disabled:hover {\n",
              "    background-color: var(--disabled-bg-color);\n",
              "    fill: var(--disabled-fill-color);\n",
              "    box-shadow: none;\n",
              "  }\n",
              "\n",
              "  .colab-df-spinner {\n",
              "    border: 2px solid var(--fill-color);\n",
              "    border-color: transparent;\n",
              "    border-bottom-color: var(--fill-color);\n",
              "    animation:\n",
              "      spin 1s steps(1) infinite;\n",
              "  }\n",
              "\n",
              "  @keyframes spin {\n",
              "    0% {\n",
              "      border-color: transparent;\n",
              "      border-bottom-color: var(--fill-color);\n",
              "      border-left-color: var(--fill-color);\n",
              "    }\n",
              "    20% {\n",
              "      border-color: transparent;\n",
              "      border-left-color: var(--fill-color);\n",
              "      border-top-color: var(--fill-color);\n",
              "    }\n",
              "    30% {\n",
              "      border-color: transparent;\n",
              "      border-left-color: var(--fill-color);\n",
              "      border-top-color: var(--fill-color);\n",
              "      border-right-color: var(--fill-color);\n",
              "    }\n",
              "    40% {\n",
              "      border-color: transparent;\n",
              "      border-right-color: var(--fill-color);\n",
              "      border-top-color: var(--fill-color);\n",
              "    }\n",
              "    60% {\n",
              "      border-color: transparent;\n",
              "      border-right-color: var(--fill-color);\n",
              "    }\n",
              "    80% {\n",
              "      border-color: transparent;\n",
              "      border-right-color: var(--fill-color);\n",
              "      border-bottom-color: var(--fill-color);\n",
              "    }\n",
              "    90% {\n",
              "      border-color: transparent;\n",
              "      border-bottom-color: var(--fill-color);\n",
              "    }\n",
              "  }\n",
              "</style>\n",
              "\n",
              "  <script>\n",
              "    async function quickchart(key) {\n",
              "      const quickchartButtonEl =\n",
              "        document.querySelector('#' + key + ' button');\n",
              "      quickchartButtonEl.disabled = true;  // To prevent multiple clicks.\n",
              "      quickchartButtonEl.classList.add('colab-df-spinner');\n",
              "      try {\n",
              "        const charts = await google.colab.kernel.invokeFunction(\n",
              "            'suggestCharts', [key], {});\n",
              "      } catch (error) {\n",
              "        console.error('Error during call to suggestCharts:', error);\n",
              "      }\n",
              "      quickchartButtonEl.classList.remove('colab-df-spinner');\n",
              "      quickchartButtonEl.classList.add('colab-df-quickchart-complete');\n",
              "    }\n",
              "    (() => {\n",
              "      let quickchartButtonEl =\n",
              "        document.querySelector('#df-3fa6dfea-56ac-4330-92fd-fed8104aff77 button');\n",
              "      quickchartButtonEl.style.display =\n",
              "        google.colab.kernel.accessAllowed ? 'block' : 'none';\n",
              "    })();\n",
              "  </script>\n",
              "</div>\n",
              "\n",
              "    </div>\n",
              "  </div>\n"
            ],
            "application/vnd.google.colaboratory.intrinsic+json": {
              "type": "dataframe",
              "summary": "{\n  \"name\": \"[[x_train,x_valid,x_test], [y_train,y_valid,y_test]]=load_h5py(fpath,32)\",\n  \"rows\": 4,\n  \"fields\": [\n    {\n      \"column\": \"train\",\n      \"properties\": {\n        \"dtype\": \"string\",\n        \"num_unique_values\": 4,\n        \"samples\": [\n          \"float32\",\n          \"int32\",\n          [\n            990,\n            3,\n            32,\n            32\n          ]\n        ],\n        \"semantic_type\": \"\",\n        \"description\": \"\"\n      }\n    },\n    {\n      \"column\": \"valid\",\n      \"properties\": {\n        \"dtype\": \"string\",\n        \"num_unique_values\": 4,\n        \"samples\": [\n          \"float32\",\n          \"int32\",\n          [\n            330,\n            3,\n            32,\n            32\n          ]\n        ],\n        \"semantic_type\": \"\",\n        \"description\": \"\"\n      }\n    },\n    {\n      \"column\": \"test\",\n      \"properties\": {\n        \"dtype\": \"string\",\n        \"num_unique_values\": 4,\n        \"samples\": [\n          \"float32\",\n          \"int32\",\n          [\n            330,\n            3,\n            32,\n            32\n          ]\n        ],\n        \"semantic_type\": \"\",\n        \"description\": \"\"\n      }\n    }\n  ]\n}"
            }
          },
          "metadata": {}
        }
      ]
    },
    {
      "cell_type": "code",
      "source": [
        "random_seed=23;batch_size2=128\n",
        "train2=TData(x_train,y_train)\n",
        "valid2=TData(x_valid,y_valid)\n",
        "test2=TData(x_test,y_test)\n",
        "train_loader2=tdl(dataset=train2,batch_size=batch_size2,shuffle=True)\n",
        "valid_loader2=tdl(dataset=valid2,batch_size=batch_size2,shuffle=True)\n",
        "test_loader2=tdl(dataset=test2,batch_size=batch_size2,shuffle=False)\n",
        "display_examples(valid_loader2,32)"
      ],
      "metadata": {
        "colab": {
          "base_uri": "https://localhost:8080/",
          "height": 688
        },
        "id": "prbh5VzIKzfK",
        "outputId": "5a865e48-6bc4-49e7-fd0d-34e3680b6615"
      },
      "execution_count": 13,
      "outputs": [
        {
          "output_type": "stream",
          "name": "stdout",
          "text": [
            "Image dimensions:torch.Size([128, 3, 32, 32])\n",
            "Label dimensions:torch.Size([128])\n",
            "Image dimensions:torch.Size([128, 3, 32, 32])\n",
            "Label dimensions:torch.Size([128])\n",
            "Image dimensions:torch.Size([74, 3, 32, 32])\n",
            "Label dimensions:torch.Size([74])\n"
          ]
        },
        {
          "output_type": "display_data",
          "data": {
            "text/plain": [
              "<Figure size 1100x400 with 1 Axes>"
            ],
            "image/png": "[encoded data removed]"
          },
          "metadata": {}
        },
        {
          "output_type": "display_data",
          "data": {
            "text/plain": [
              "<Figure size 1100x400 with 1 Axes>"
            ],
            "image/png": "[encoded data removed]"
          },
          "metadata": {}
        },
        {
          "output_type": "display_data",
          "data": {
            "text/plain": [
              "<Figure size 1100x400 with 1 Axes>"
            ],
            "image/png": "[encoded data removed]"
          },
          "metadata": {}
        }
      ]
    },
    {
      "cell_type": "code",
      "source": [
        "#densenet\n",
        "def _bn_function_call(norm,relu,conv):\n",
        "  def bn_function(*inputs):\n",
        "    concated_features=torch.cat(inputs,1)\n",
        "    bottleneck_output=conv(relu(norm(concated_features)))\n",
        "    return bottleneck_output\n",
        "  return bn_function\n",
        "\n",
        "class _DenseLayer(tnn.Sequential):\n",
        "  def __init__(self,num_input_features,growth_rate,bn_size,drop_rate,memory_efficient=False):\n",
        "    super(_DenseLayer,self).__init__()\n",
        "    self.add_module('norm1',tnn.BatchNorm2d(num_input_features)),\n",
        "    self.add_module('relu1',tnn.ReLU(inplace=True)),\n",
        "    self.add_module('conv1',tnn.Conv2d(num_input_features,bn_size*growth_rate,kernel_size=1,stride=1,bias=False)),\n",
        "    self.add_module('norm2',tnn.BatchNorm2d(bn_size*growth_rate)),\n",
        "    self.add_module('relu2',tnn.ReLU(inplace=True)),\n",
        "    self.add_module('conv2',tnn.Conv2d(bn_size*growth_rate,growth_rate,kernel_size=3,stride=1,padding=1,bias=False)),\n",
        "    self.drop_rate=drop_rate\n",
        "    self.memory_efficient=memory_efficient\n",
        "\n",
        "  def forward(self,*prev_features):\n",
        "    bn_function=bn_function_call(self.norm1,self.relu1,self.conv1)\n",
        "    if self.memory_efficient and any(prev_feature.requires_grad for prev_feature in prev_features):\n",
        "      bottleneck_output=tcp.checkpoint(bn_function,*prev_features)\n",
        "    else:\n",
        "      bottleneck_output=bn_function(*prev_features)\n",
        "    new_features=self.conv2(self.relu2(self.norm2(bottleneck_output)))\n",
        "    if self.drop_rate>0:\n",
        "      new_features=tnn.functional.dropout(new_features,p=self.drop_rate,training=self.training)\n",
        "    return new_features\n"
      ],
      "metadata": {
        "id": "-Fcd8fs5Lqcl"
      },
      "execution_count": 14,
      "outputs": []
    },
    {
      "cell_type": "code",
      "source": [
        "class _DenseBlock(tnn.Module):\n",
        "  def __init__(self,num_layers,num_input_features,bn_size,growth_rate,drop_rate,memory_efficient=False):\n",
        "    super(_DenseBlock,self).__init__()\n",
        "    for i in range(num_layers):\n",
        "      layer=_DenseLayer(\n",
        "          num_input_features+i*growth_rate,\n",
        "          growth_rate=growth_rate,\n",
        "          bn_size=bn_size,drop_rate=drop_rate,\n",
        "          memory_efficient=memory_efficient\n",
        "      )\n",
        "      self.add_module('denselayer%d'%(i+1),layer)\n",
        "  def forward(self,init_features):\n",
        "    features=[init_features]\n",
        "    for name,layer in self.named_children():\n",
        "      new_features=layer(*features)\n",
        "      features.append(new_features)\n",
        "    return torch.cat(features,1)\n",
        "\n",
        "class _Transition(tnn.Sequential):\n",
        "  def __init__(self,num_input_features,num_output_features):\n",
        "    super(_Transition,self).___init__()\n",
        "    self.add_module('norm',tnn.BatchNorm2d(num_input_features))\n",
        "    self.add_module('relu',tnn.ReLU(inplace=True))\n",
        "    self.add_module('conv',tnn.Conv2d(num_input_features,num_output_features,kernel_size=1,stride=1,bias=False))\n",
        "    self.add_module('pool',tnn.AvgPool2d(kernel_size=2,stride=2))\n"
      ],
      "metadata": {
        "id": "RF_kngKbRcEw"
      },
      "execution_count": 15,
      "outputs": []
    },
    {
      "cell_type": "code",
      "source": [
        "class DenseNN(tnn.Module):\n",
        "  def __init__(self,growth_rate=32,block_config=(6,1,2,24,16),num_init_featuremaps=64,bn_size=4,drop_rate=0,num_classes=1000,memory_efficient=False,grayscale=False):\n",
        "    super(DenseNN,self).__init__()\n",
        "    if grayscale:in_channels=1\n",
        "    else: in_channels=3\n",
        "    self.features=tnn.Sequential(od([('conv0',tnn.Conv2d(in_channels=in_channels,out_channels=num_init_featuremaps,kernel_size=7,stride=2,padding=3,bias=False)),\n",
        "                                    ('norm0',tnn.BatchNorm2d(num_features=num_init_featuremaps)),\n",
        "                                    ('relu0',tnn.ReLU(inplace=True)),\n",
        "                                    ('pool0',tnn.MaxPool2d(kernel_size=3,stride=2,padding=1))]))\n",
        "    num_features=num_init_featuremaps\n",
        "    for i,num_layeres in enumerate(block_config):\n",
        "      block=_DenseBlock(\n",
        "          num_layers=num_layers,\n",
        "          num_input_features=num_features,\n",
        "          bn_size=bn_size,drop_rate=drop_rate,growth_rate=growth_rate,\n",
        "          memory_efficient=memory_efficient\n",
        "      )\n",
        "      self.features.add_module('denseblock%d'%(i+1),block)\n",
        "      num_features=num_features+num_layers*growth_rate\n",
        "      if i!=len(block_config)-1:\n",
        "        trans=_Transition(num_input_features=num_features,num_output_features=num_features//2)\n",
        "        self.features.add_module('transition%d'%(i+1),trans)\n",
        "        num_features=num_features//2\n",
        "        self.features.add_module('norm5',tnn.BatchNorm2d(num_features))\n",
        "        self.classifier=tnn.Linear(num_features,num_classes)\n",
        "        for m in self.modules():\n",
        "          if isinstance(m,tnn.Conv2d):\n",
        "            tnn.init.kaiming_normal_(m.weight)\n",
        "          elif isinstance(m,tnn.BatchNorm2d):\n",
        "            tnn.init.constant_(m.weight,1)\n",
        "            tnn.init.constant_(m.bias,0)\n",
        "          elif isinstance(m,tnn.Linear):\n",
        "            tnn.init.constant_(m.bias,0)\n",
        "  def forward(self,x):\n",
        "    y=self.features(x)\n",
        "    y=tnn.functional.relu(y,inplace=True)\n",
        "    y=tnn.functional.adaptive_avg_pool2d(y,(1,1))\n",
        "    y=torch.flatten(y,1)\n",
        "    logits=self.classifier(y)\n",
        "    probs=tnn.functional.softmax(logits,dim=1)\n",
        "    return logits,probs"
      ],
      "metadata": {
        "id": "pSqNGUcZUn_n"
      },
      "execution_count": 16,
      "outputs": []
    },
    {
      "cell_type": "code",
      "source": [],
      "metadata": {
        "id": "E05J_ln1XaEl"
      },
      "execution_count": null,
      "outputs": []
    }
  ]
}