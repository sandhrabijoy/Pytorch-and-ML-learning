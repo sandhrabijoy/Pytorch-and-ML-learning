{
  "nbformat": 4,
  "nbformat_minor": 0,
  "metadata": {
    "colab": {
      "provenance": [],
      "authorship_tag": "ABX9TyMEoOMmKLLhlJkzy3ad3ovZ",
      "include_colab_link": true
    },
    "kernelspec": {
      "name": "python3",
      "display_name": "Python 3"
    },
    "language_info": {
      "name": "python"
    }
  },
  "cells": [
    {
      "cell_type": "markdown",
      "metadata": {
        "id": "view-in-github",
        "colab_type": "text"
      },
      "source": [
        "<a href=\"https://colab.research.google.com/github/sandhrabijoy/_/blob/master/Weather_Prediction_in_Time_Series.ipynb\" target=\"_parent\"><img src=\"https://colab.research.google.com/assets/colab-badge.svg\" alt=\"Open In Colab\"/></a>"
      ]
    },
    {
      "cell_type": "code",
      "execution_count": 1,
      "metadata": {
        "id": "uM8jGtJPIPv3"
      },
      "outputs": [],
      "source": [
        "import pandas as pd\n",
        "import matplotlib.pyplot as plt\n",
        "import keras"
      ]
    },
    {
      "cell_type": "code",
      "source": [
        "#loading the data\n",
        "from zipfile import ZipFile\n",
        "data=\"https://storage.googleapis.com/tensorflow/tf-keras-datasets/jena_climate_2009_2016.csv.zip\"\n",
        "zip_path=keras.utils.get_file(origin=data,fname=\"jena_climate_2009_2016.csv.zip\")\n",
        "zipfile=ZipFile(zip_path)\n",
        "zipfile.extractall()\n",
        "csv=\"jena_climate_2009_2016.csv\"\n",
        "\n",
        "df=pd.read_csv(csv)"
      ],
      "metadata": {
        "id": "tOdimAFlQ8E8"
      },
      "execution_count": 4,
      "outputs": []
    },
    {
      "cell_type": "code",
      "source": [],
      "metadata": {
        "id": "lzGJ0x1pRswS"
      },
      "execution_count": null,
      "outputs": []
    }
  ]
}