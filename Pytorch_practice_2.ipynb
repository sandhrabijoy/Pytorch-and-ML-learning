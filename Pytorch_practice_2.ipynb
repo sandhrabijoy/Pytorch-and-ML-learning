{
  "nbformat": 4,
  "nbformat_minor": 0,
  "metadata": {
    "colab": {
      "provenance": [],
      "authorship_tag": "ABX9TyOptb41W231sDcMD94H3TD7",
      "include_colab_link": true
    },
    "kernelspec": {
      "name": "python3",
      "display_name": "Python 3"
    },
    "language_info": {
      "name": "python"
    }
  },
  "cells": [
    {
      "cell_type": "markdown",
      "metadata": {
        "id": "view-in-github",
        "colab_type": "text"
      },
      "source": [
        "<a href=\"https://colab.research.google.com/github/sandhrabijoy/_/blob/master/Pytorch_practice_2.ipynb\" target=\"_parent\"><img src=\"https://colab.research.google.com/assets/colab-badge.svg\" alt=\"Open In Colab\"/></a>"
      ]
    },
    {
      "cell_type": "code",
      "execution_count": 7,
      "metadata": {
        "id": "9vgDqJ8TVEVh"
      },
      "outputs": [],
      "source": [
        "import numpy as np,pandas as pd ,pylab as pl\n",
        "import h5py,torch\n",
        "from tensorflow import image as timage\n",
        "from torchvision import transforms,utils\n",
        "from torch.utils.data import DataLoader as tdl\n",
        "from torch.utils.data import Dataset as tds\n",
        "import torch.nn as tnn\n"
      ]
    },
    {
      "cell_type": "code",
      "source": [
        "from IPython.core.magic import register_line_magic\n",
        "dev=torch.device(\"cuda:0\" if torch.cuda.is_available() else \"cpu\")"
      ],
      "metadata": {
        "id": "ZoH_DDNaVfpV"
      },
      "execution_count": 8,
      "outputs": []
    },
    {
      "cell_type": "code",
      "source": [
        "class TData(tds):\n",
        "  def __init__(self,X,y):\n",
        "    self.X=torch.tensor(X,dtype=torch.float32)\n",
        "    self.y=torch.tensor(y,dtype=torch.int32)\n",
        "  def __getitem__(self,index):\n",
        "    train_img,train_lbl=self.X[index],self.y[index]\n",
        "    return train_img,train_lbl\n",
        "  def __len__(self):\n",
        "    return self.y.shape[0]"
      ],
      "metadata": {
        "id": "dHn9-Hi0Ym90"
      },
      "execution_count": 9,
      "outputs": []
    },
    {
      "cell_type": "code",
      "source": [
        "class VGG19(tnn.Module):\n",
        "  def __init__(self,num_classes):\n",
        "    super(VGG19,self).__init__()\n",
        "    self.block1=tnn.Sequential(\n",
        "        tnn.Conv2d(in_channels=3,out_channels=64,kernel_size=(3,3),stride=(1,1),padding=1),\n",
        "        tnn.ReLU(),\n",
        "        tnn.Conv2d(in_channels=64,out_channels=64,kernel_size=(3,3),stride=(1,1),padding=1),\n",
        "        tnn.ReLU(),\n",
        "        tnn.MaxPool2d(kernel_size=(2,2),stride=(2,2))\n",
        "    )\n",
        "    self.block2=tnn.Sequential(\n",
        "        tnn.Conv2d(in_channels=64,out_channels=128,kernel_size=(3,3),stride=(1,1),padding=1),\n",
        "        tnn.ReLU(),\n",
        "        tnn.Conv2d(in_channels=128,out_channels=128,kernel_size=(3,3),stride=(1,1),padding=1),\n",
        "        tnn.ReLU(),\n",
        "        tnn.MaxPool2d(kernel_size=(2,2),stride=(2,2))\n",
        "    )\n",
        "    self.block3=tnn.Sequential(\n",
        "        tnn.Conv2d(in_channels=128,out_channels=256,kernel_size=(3,3),stride=(1,1),padding=1),\n",
        "        tnn.ReLU(),\n",
        "        tnn.Conv2d(in_channels=256,out_channels=256,kernel_size=(3,3),stride=(1,1),padding=1),\n",
        "        tnn.ReLU(),\n",
        "        tnn.Conv2d(in_channels=256,out_channels=256,kernel_size=(3,3),stride=(1,1),padding=1),\n",
        "        tnn.ReLU(),\n",
        "        tnn.MaxPool2d(kernel_size=(2,2),stride=(2,2))\n",
        "    )\n",
        "    self.block4=tnn.Sequential(\n",
        "        tnn.Conv2d(in_channels=256,out_channels=512,kernel_size=(3,3),stride=(1,1),padding=1),\n",
        "        tnn.ReLU(),\n",
        "        tnn.Conv2d(in_channels=512,out_channels=512,kernel_size=(3,3),stride=(1,1),padding=1),\n",
        "        tnn.ReLU(),\n",
        "        tnn.Conv2d(in_channels=512,out_channels=512,kernel_size=(3,3),stride=(1,1),padding=1),\n",
        "        tnn.ReLU(),\n",
        "        tnn.MaxPool2d(kernel_size=(2,2),stride=(2,2))\n",
        "    )\n",
        "    self.block5=tnn.Sequential(\n",
        "        tnn.Conv2d(in_channels=512,out_channels=512,kernel_size=(3,3),stride=(1,1),padding=1),\n",
        "        tnn.ReLU(),\n",
        "        tnn.Conv2d(in_channels=512,out_channels=512,kernel_size=(3,3),stride=(1,1),padding=1),\n",
        "        tnn.ReLU(),\n",
        "        tnn.Conv2d(in_channels=512,out_channels=512,kernel_size=(3,3),stride=(1,1),padding=1),\n",
        "        tnn.ReLU(),\n",
        "        tnn.Conv2d(in_channels=512,out_channels=512,kernel_size=(3,3),stride=(1,1),padding=1),\n",
        "        tnn.ReLU(),\n",
        "        tnn.MaxPool2d(kernel_size=(2,2),stride=(2,2))\n",
        "    )\n",
        "\n",
        "    self.classifier=tnn.Sequential(\n",
        "        tnn.Linear(512,4096),\n",
        "        tnn.ReLU(True),\n",
        "        tnn.Linear(4096,4096),\n",
        "        tnn.ReLU(True),\n",
        "        tnn.Linear(4096,num_classes)\n",
        "    )\n",
        "    for m in self.modules():\n",
        "      if isinstance(m,torch.nn.Conv2d):\n",
        "        m.weight.detach().normal_(0,.05)\n",
        "        if m.bias is not None:\n",
        "          m.bias.detach().zero_()\n",
        "      elif isinstance(m,torch.nn.Linear):\n",
        "        m.weight.detach().normal_(0,.05)\n",
        "        m.bias.detach().detach().zero_()\n",
        "  def forward(self,x):\n",
        "    x=self.block1(x)\n",
        "    x=self.block2(x)\n",
        "    x=self.block3(x)\n",
        "    x=self.block4(x)\n",
        "    x=self.block5(x)\n",
        "\n",
        "    logits=self.classifier(x.view(-1,512))\n",
        "    probs=tnn.functional.softmax(logits,dim=1)\n",
        "    return logits,probs"
      ],
      "metadata": {
        "id": "akvtvvefZk5A"
      },
      "execution_count": 12,
      "outputs": []
    },
    {
      "cell_type": "code",
      "source": [],
      "metadata": {
        "id": "Pe-xMU3_fbuq"
      },
      "execution_count": null,
      "outputs": []
    }
  ]
}