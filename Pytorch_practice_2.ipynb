{
  "nbformat": 4,
  "nbformat_minor": 0,
  "metadata": {
    "colab": {
      "provenance": [],
      "mount_file_id": "1Z0d11udqDtv-nttuFuVx3krWbNacNZqD",
      "authorship_tag": "ABX9TyNRKwBUq2cjJwk6sLbQrxwd",
      "include_colab_link": true
    },
    "kernelspec": {
      "name": "python3",
      "display_name": "Python 3"
    },
    "language_info": {
      "name": "python"
    }
  },
  "cells": [
    {
      "cell_type": "markdown",
      "metadata": {
        "id": "view-in-github",
        "colab_type": "text"
      },
      "source": [
        "<a href=\"https://colab.research.google.com/github/sandhrabijoy/_/blob/master/Pytorch_practice_2.ipynb\" target=\"_parent\"><img src=\"https://colab.research.google.com/assets/colab-badge.svg\" alt=\"Open In Colab\"/></a>"
      ]
    },
    {
      "cell_type": "code",
      "execution_count": 1,
      "metadata": {
        "id": "9vgDqJ8TVEVh"
      },
      "outputs": [],
      "source": [
        "import numpy as np,pandas as pd ,pylab as pl\n",
        "import h5py,torch\n",
        "from tensorflow import image as timage\n",
        "from torchvision import transforms,utils\n",
        "from torch.utils.data import DataLoader as tdl\n",
        "from torch.utils.data import Dataset as tds\n",
        "import torch.nn as tnn\n"
      ]
    },
    {
      "cell_type": "code",
      "source": [
        "from IPython.core.magic import register_line_magic\n",
        "dev=torch.device(\"cuda:0\" if torch.cuda.is_available() else \"cpu\")"
      ],
      "metadata": {
        "id": "ZoH_DDNaVfpV"
      },
      "execution_count": 2,
      "outputs": []
    },
    {
      "cell_type": "code",
      "source": [
        "class TData(tds):\n",
        "  def __init__(self,X,y):\n",
        "    self.X=torch.tensor(X,dtype=torch.float32)\n",
        "    self.y=torch.tensor(y,dtype=torch.int32)\n",
        "  def __getitem__(self,index):\n",
        "    train_img,train_lbl=self.X[index],self.y[index]\n",
        "    return train_img,train_lbl\n",
        "  def __len__(self):\n",
        "    return self.y.shape[0]"
      ],
      "metadata": {
        "id": "dHn9-Hi0Ym90"
      },
      "execution_count": 3,
      "outputs": []
    },
    {
      "cell_type": "code",
      "source": [
        "class VGG19(tnn.Module):\n",
        "  def __init__(self,num_classes):\n",
        "    super(VGG19,self).__init__()\n",
        "    self.block1=tnn.Sequential(\n",
        "        tnn.Conv2d(in_channels=3,out_channels=64,kernel_size=(3,3),stride=(1,1),padding=1),\n",
        "        tnn.ReLU(),\n",
        "        tnn.Conv2d(in_channels=64,out_channels=64,kernel_size=(3,3),stride=(1,1),padding=1),\n",
        "        tnn.ReLU(),\n",
        "        tnn.MaxPool2d(kernel_size=(2,2),stride=(2,2))\n",
        "    )\n",
        "    self.block2=tnn.Sequential(\n",
        "        tnn.Conv2d(in_channels=64,out_channels=128,kernel_size=(3,3),stride=(1,1),padding=1),\n",
        "        tnn.ReLU(),\n",
        "        tnn.Conv2d(in_channels=128,out_channels=128,kernel_size=(3,3),stride=(1,1),padding=1),\n",
        "        tnn.ReLU(),\n",
        "        tnn.MaxPool2d(kernel_size=(2,2),stride=(2,2))\n",
        "    )\n",
        "    self.block3=tnn.Sequential(\n",
        "        tnn.Conv2d(in_channels=128,out_channels=256,kernel_size=(3,3),stride=(1,1),padding=1),\n",
        "        tnn.ReLU(),\n",
        "        tnn.Conv2d(in_channels=256,out_channels=256,kernel_size=(3,3),stride=(1,1),padding=1),\n",
        "        tnn.ReLU(),\n",
        "        tnn.Conv2d(in_channels=256,out_channels=256,kernel_size=(3,3),stride=(1,1),padding=1),\n",
        "        tnn.ReLU(),\n",
        "        tnn.MaxPool2d(kernel_size=(2,2),stride=(2,2))\n",
        "    )\n",
        "    self.block4=tnn.Sequential(\n",
        "        tnn.Conv2d(in_channels=256,out_channels=512,kernel_size=(3,3),stride=(1,1),padding=1),\n",
        "        tnn.ReLU(),\n",
        "        tnn.Conv2d(in_channels=512,out_channels=512,kernel_size=(3,3),stride=(1,1),padding=1),\n",
        "        tnn.ReLU(),\n",
        "        tnn.Conv2d(in_channels=512,out_channels=512,kernel_size=(3,3),stride=(1,1),padding=1),\n",
        "        tnn.ReLU(),\n",
        "        tnn.MaxPool2d(kernel_size=(2,2),stride=(2,2))\n",
        "    )\n",
        "    self.block5=tnn.Sequential(\n",
        "        tnn.Conv2d(in_channels=512,out_channels=512,kernel_size=(3,3),stride=(1,1),padding=1),\n",
        "        tnn.ReLU(),\n",
        "        tnn.Conv2d(in_channels=512,out_channels=512,kernel_size=(3,3),stride=(1,1),padding=1),\n",
        "        tnn.ReLU(),\n",
        "        tnn.Conv2d(in_channels=512,out_channels=512,kernel_size=(3,3),stride=(1,1),padding=1),\n",
        "        tnn.ReLU(),\n",
        "        tnn.Conv2d(in_channels=512,out_channels=512,kernel_size=(3,3),stride=(1,1),padding=1),\n",
        "        tnn.ReLU(),\n",
        "        tnn.MaxPool2d(kernel_size=(2,2),stride=(2,2))\n",
        "    )\n",
        "\n",
        "    self.classifier=tnn.Sequential(\n",
        "        tnn.Linear(512,4096),\n",
        "        tnn.ReLU(True),\n",
        "        tnn.Linear(4096,4096),\n",
        "        tnn.ReLU(True),\n",
        "        tnn.Linear(4096,num_classes)\n",
        "    )\n",
        "    for m in self.modules():\n",
        "      if isinstance(m,torch.nn.Conv2d):\n",
        "        m.weight.detach().normal_(0,.05)\n",
        "        if m.bias is not None:\n",
        "          m.bias.detach().zero_()\n",
        "      elif isinstance(m,torch.nn.Linear):\n",
        "        m.weight.detach().normal_(0,.05)\n",
        "        m.bias.detach().detach().zero_()\n",
        "  def forward(self,x):\n",
        "    x=self.block1(x)\n",
        "    x=self.block2(x)\n",
        "    x=self.block3(x)\n",
        "    x=self.block4(x)\n",
        "    x=self.block5(x)\n",
        "\n",
        "    logits=self.classifier(x.view(-1,512))\n",
        "    probs=tnn.functional.softmax(logits,dim=1)\n",
        "    return logits,probs"
      ],
      "metadata": {
        "id": "akvtvvefZk5A"
      },
      "execution_count": 4,
      "outputs": []
    },
    {
      "cell_type": "code",
      "source": [
        "def resize_display(x_train, y_train, x_test, y_test, pixels, batch_size=256):\n",
        "    def resize_batch(x_data, pixels, batch_size):\n",
        "        \"\"\"Resize images in batches to reduce memory usage.\"\"\"\n",
        "        resized_list = []\n",
        "        for i in range(0, len(x_data), batch_size):\n",
        "            batch = x_data[i:i + batch_size]\n",
        "            batch_resized = np.array(timage.resize(batch, [pixels, pixels]))  # Resize batch\n",
        "            resized_list.append(batch_resized)\n",
        "        return np.concatenate(resized_list, axis=0)  # Concatenate all resized batches\n",
        "\n",
        "    # Resize images in smaller batches to avoid memory overload\n",
        "    x_train = resize_batch(x_train, pixels, batch_size)\n",
        "    x_test = resize_batch(x_test, pixels, batch_size)\n",
        "\n",
        "    # Shuffle train data\n",
        "    shuffle_ids = np.arange(len(y_train))\n",
        "    np.random.RandomState(12).shuffle(shuffle_ids)\n",
        "    x_train, y_train = x_train[shuffle_ids], y_train[shuffle_ids]\n",
        "\n",
        "    # Shuffle test data\n",
        "    shuffle_ids = np.arange(len(y_test))\n",
        "    np.random.RandomState(23).shuffle(shuffle_ids)\n",
        "    x_test, y_test = x_test[shuffle_ids], y_test[shuffle_ids]\n",
        "\n",
        "    # Correct the validation split calculation\n",
        "    n = int(len(x_test) / 2)  # Fixed division issue\n",
        "    x_valid, y_valid = x_test[:n], y_test[:n]\n",
        "    x_test, y_test = x_test[n:], y_test[n:]\n",
        "\n",
        "    # Convert to PyTorch-friendly shape (channels-first)\n",
        "    x_train = x_train.reshape(-1, 3, pixels, pixels)\n",
        "    x_valid = x_valid.reshape(-1, 3, pixels, pixels)\n",
        "    x_test = x_test.reshape(-1, 3, pixels, pixels)\n",
        "\n",
        "    # Display summary\n",
        "    df = pd.DataFrame(\n",
        "        [[x_train.shape, x_valid.shape, x_test.shape],\n",
        "         [x_train.dtype, x_valid.dtype, x_test.dtype],\n",
        "         [y_train.shape, y_valid.shape, y_test.shape],\n",
        "         [y_train.dtype, y_valid.dtype, y_test.dtype]],\n",
        "        columns=['train', 'valid', 'test'],\n",
        "        index=['image shape', 'image type', 'label shape', 'label type']\n",
        "    )\n",
        "    display(df)\n",
        "\n",
        "    return [[x_train, x_valid, x_test], [y_train, y_valid, y_test]]\n",
        "\n",
        "def display_examples(data_loader,pixels):\n",
        "  for images,labels in data_loader:\n",
        "    print('Image dimensions:%s'%str(images.shape))\n",
        "    print('Label dimensions:%s'%str(labels.shape))\n",
        "\n",
        "    n=np.random.randint(1,50)\n",
        "    fig=pl.figure(figsize=(11,4))\n",
        "    for i in range(n,n+5):\n",
        "      ax=fig.add_subplot(1,5,i-n+1,\\\n",
        "                         xticks=[],yticks=[],title=labels[i].item())\n",
        "      ax.imshow((images[i]).reshape(pixels,pixels,3))\n",
        "    break\n",
        "def model_acc(model,data_loader):\n",
        "  correct_preds,num_examples=0,0\n",
        "  for features,targets in data_loader:\n",
        "    features=features.to(dev)\n",
        "    targets=targets.to(dev)\n",
        "    logits,probs=model(features)\n",
        "    _,pred_labels=torch.max(probs,1)\n",
        "    num_examples+=targets.size(0)\n",
        "    correct_preds+=(pred_labels==targets).sum()\n",
        "  return correct_preds.float()/num_examples*100"
      ],
      "metadata": {
        "id": "Pe-xMU3_fbuq"
      },
      "execution_count": 5,
      "outputs": []
    },
    {
      "cell_type": "code",
      "source": [
        "@register_line_magic\n",
        "def train_run(epochs):\n",
        "  epochs=int(epochs)\n",
        "  for epoch in range(epochs):\n",
        "    model.train()\n",
        "    for batch_ids,(features,targets) in enumerate(train_loader):\n",
        "      features=features.to(dev);targets=targets.to(dev)\n",
        "      logits,probs=model(features)\n",
        "      cost=tnn.functional.cross_entropy(logits,targets.long())\n",
        "      optimizer.zero_grad();cost.backward()\n",
        "      optimizer.step()\n",
        "      if not batch_ids%50:\n",
        "        print('Epochs:%03d/%03d |Batch:%03d/%03d|Cost:%.4f'%(epoch+1,epochs,batch_ids,len(train)//batch_size,cost))\n",
        "        model.eval()\n",
        "        with torch.set_grad_enabled(False):\n",
        "          print('Epoch:%03d/%03d train acc:%.2f%% valid acc:%.2f%%'%\\\n",
        "                (epoch+1,epochs,\n",
        "                 model_acc(model,train_loader),\n",
        "                 model_acc(model,valid_loader)))\n",
        "\n",
        "@register_line_magic\n",
        "def print_acc(n):\n",
        "  if int(n)==1:\n",
        "    data_loader=\\\n",
        "    [train_loader,valid_loader,test_loader]\n",
        "  print('Train accuracy:%.4f%%'%\\\n",
        "        (model_acc(model,data_loader[0])))\n",
        "  print('Valid accuracy:%.4f%%'%\\\n",
        "        (model_acc(model,data_loader[1])))\n",
        "  print('Test accuracy:%.4f%%'%\\\n",
        "   (model_acc(model,data_loader[2])))"
      ],
      "metadata": {
        "id": "OAu7A2t3hmHw"
      },
      "execution_count": 6,
      "outputs": []
    },
    {
      "cell_type": "code",
      "source": [
        "import torch\n",
        "torch.cuda.empty_cache()"
      ],
      "metadata": {
        "id": "vzheGB7DfZH8"
      },
      "execution_count": 7,
      "outputs": []
    },
    {
      "cell_type": "code",
      "source": [
        "#DATA\n",
        "pixels = 48\n",
        "fpath = '/content/drive/MyDrive/'\n",
        "f = 'CatDogImages.h5'\n",
        "\n",
        "# Load the file\n",
        "f = h5py.File(fpath+f , 'r')\n",
        "keys = list(f.keys())\n",
        "print(keys)"
      ],
      "metadata": {
        "colab": {
          "base_uri": "https://localhost:8080/"
        },
        "id": "cPUxr_ttzFkP",
        "outputId": "91aabe2c-f335-4606-8ef4-2db4c8a3c3d7"
      },
      "execution_count": 8,
      "outputs": [
        {
          "output_type": "stream",
          "name": "stdout",
          "text": [
            "['test_images', 'test_labels', 'train_images', 'train_labels']\n"
          ]
        }
      ]
    },
    {
      "cell_type": "code",
      "source": [
        "x_test = np.array(f['test_images'])  # Read test images\n",
        "y_test = np.array(f['test_labels']).reshape(-1)  # Read test labels\n",
        "x_train = np.array(f['train_images'])  # Read train images\n",
        "y_train = np.array(f['train_labels']).reshape(-1)  # Read train labels"
      ],
      "metadata": {
        "id": "HRW6hY9AtlMs"
      },
      "execution_count": 9,
      "outputs": []
    },
    {
      "cell_type": "code",
      "source": [
        "print(x_train.shape, y_train.shape)\n",
        "print(x_test.shape, y_test.shape)\n"
      ],
      "metadata": {
        "colab": {
          "base_uri": "https://localhost:8080/"
        },
        "id": "Y90tSp0utlnT",
        "outputId": "ab19b896-1d4a-470d-f973-0ebf71fdb228"
      },
      "execution_count": 10,
      "outputs": [
        {
          "output_type": "stream",
          "name": "stdout",
          "text": [
            "(18610, 128, 128, 3) (18610,)\n",
            "(4652, 128, 128, 3) (4652,)\n"
          ]
        }
      ]
    },
    {
      "cell_type": "code",
      "source": [
        "[[x_train, x_valid, x_test],\n",
        " [y_train, y_valid, y_test]] = resize_display(x_train, y_train, x_test, y_test, pixels)\n"
      ],
      "metadata": {
        "colab": {
          "base_uri": "https://localhost:8080/",
          "height": 175
        },
        "id": "3I4m14ghuXDZ",
        "outputId": "54e57133-2c3b-4583-a44d-99a5bdf63617"
      },
      "execution_count": 11,
      "outputs": [
        {
          "output_type": "display_data",
          "data": {
            "text/plain": [
              "                          train              valid               test\n",
              "image shape  (18610, 3, 48, 48)  (2326, 3, 48, 48)  (2326, 3, 48, 48)\n",
              "image type              float32            float32            float32\n",
              "label shape            (18610,)            (2326,)            (2326,)\n",
              "label type                int32              int32              int32"
            ],
            "text/html": [
              "\n",
              "  <div id=\"df-4a2d02de-64cc-4c60-9e88-62937ef3fe6f\" class=\"colab-df-container\">\n",
              "    <div>\n",
              "<style scoped>\n",
              "    .dataframe tbody tr th:only-of-type {\n",
              "        vertical-align: middle;\n",
              "    }\n",
              "\n",
              "    .dataframe tbody tr th {\n",
              "        vertical-align: top;\n",
              "    }\n",
              "\n",
              "    .dataframe thead th {\n",
              "        text-align: right;\n",
              "    }\n",
              "</style>\n",
              "<table border=\"1\" class=\"dataframe\">\n",
              "  <thead>\n",
              "    <tr style=\"text-align: right;\">\n",
              "      <th></th>\n",
              "      <th>train</th>\n",
              "      <th>valid</th>\n",
              "      <th>test</th>\n",
              "    </tr>\n",
              "  </thead>\n",
              "  <tbody>\n",
              "    <tr>\n",
              "      <th>image shape</th>\n",
              "      <td>(18610, 3, 48, 48)</td>\n",
              "      <td>(2326, 3, 48, 48)</td>\n",
              "      <td>(2326, 3, 48, 48)</td>\n",
              "    </tr>\n",
              "    <tr>\n",
              "      <th>image type</th>\n",
              "      <td>float32</td>\n",
              "      <td>float32</td>\n",
              "      <td>float32</td>\n",
              "    </tr>\n",
              "    <tr>\n",
              "      <th>label shape</th>\n",
              "      <td>(18610,)</td>\n",
              "      <td>(2326,)</td>\n",
              "      <td>(2326,)</td>\n",
              "    </tr>\n",
              "    <tr>\n",
              "      <th>label type</th>\n",
              "      <td>int32</td>\n",
              "      <td>int32</td>\n",
              "      <td>int32</td>\n",
              "    </tr>\n",
              "  </tbody>\n",
              "</table>\n",
              "</div>\n",
              "    <div class=\"colab-df-buttons\">\n",
              "\n",
              "  <div class=\"colab-df-container\">\n",
              "    <button class=\"colab-df-convert\" onclick=\"convertToInteractive('df-4a2d02de-64cc-4c60-9e88-62937ef3fe6f')\"\n",
              "            title=\"Convert this dataframe to an interactive table.\"\n",
              "            style=\"display:none;\">\n",
              "\n",
              "  <svg xmlns=\"http://www.w3.org/2000/svg\" height=\"24px\" viewBox=\"0 -960 960 960\">\n",
              "    <path d=\"M120-120v-720h720v720H120Zm60-500h600v-160H180v160Zm220 220h160v-160H400v160Zm0 220h160v-160H400v160ZM180-400h160v-160H180v160Zm440 0h160v-160H620v160ZM180-180h160v-160H180v160Zm440 0h160v-160H620v160Z\"/>\n",
              "  </svg>\n",
              "    </button>\n",
              "\n",
              "  <style>\n",
              "    .colab-df-container {\n",
              "      display:flex;\n",
              "      gap: 12px;\n",
              "    }\n",
              "\n",
              "    .colab-df-convert {\n",
              "      background-color: #E8F0FE;\n",
              "      border: none;\n",
              "      border-radius: 50%;\n",
              "      cursor: pointer;\n",
              "      display: none;\n",
              "      fill: #1967D2;\n",
              "      height: 32px;\n",
              "      padding: 0 0 0 0;\n",
              "      width: 32px;\n",
              "    }\n",
              "\n",
              "    .colab-df-convert:hover {\n",
              "      background-color: #E2EBFA;\n",
              "      box-shadow: 0px 1px 2px rgba(60, 64, 67, 0.3), 0px 1px 3px 1px rgba(60, 64, 67, 0.15);\n",
              "      fill: #174EA6;\n",
              "    }\n",
              "\n",
              "    .colab-df-buttons div {\n",
              "      margin-bottom: 4px;\n",
              "    }\n",
              "\n",
              "    [theme=dark] .colab-df-convert {\n",
              "      background-color: #3B4455;\n",
              "      fill: #D2E3FC;\n",
              "    }\n",
              "\n",
              "    [theme=dark] .colab-df-convert:hover {\n",
              "      background-color: #434B5C;\n",
              "      box-shadow: 0px 1px 3px 1px rgba(0, 0, 0, 0.15);\n",
              "      filter: drop-shadow(0px 1px 2px rgba(0, 0, 0, 0.3));\n",
              "      fill: #FFFFFF;\n",
              "    }\n",
              "  </style>\n",
              "\n",
              "    <script>\n",
              "      const buttonEl =\n",
              "        document.querySelector('#df-4a2d02de-64cc-4c60-9e88-62937ef3fe6f button.colab-df-convert');\n",
              "      buttonEl.style.display =\n",
              "        google.colab.kernel.accessAllowed ? 'block' : 'none';\n",
              "\n",
              "      async function convertToInteractive(key) {\n",
              "        const element = document.querySelector('#df-4a2d02de-64cc-4c60-9e88-62937ef3fe6f');\n",
              "        const dataTable =\n",
              "          await google.colab.kernel.invokeFunction('convertToInteractive',\n",
              "                                                    [key], {});\n",
              "        if (!dataTable) return;\n",
              "\n",
              "        const docLinkHtml = 'Like what you see? Visit the ' +\n",
              "          '<a target=\"_blank\" href=https://colab.research.google.com/notebooks/data_table.ipynb>data table notebook</a>'\n",
              "          + ' to learn more about interactive tables.';\n",
              "        element.innerHTML = '';\n",
              "        dataTable['output_type'] = 'display_data';\n",
              "        await google.colab.output.renderOutput(dataTable, element);\n",
              "        const docLink = document.createElement('div');\n",
              "        docLink.innerHTML = docLinkHtml;\n",
              "        element.appendChild(docLink);\n",
              "      }\n",
              "    </script>\n",
              "  </div>\n",
              "\n",
              "\n",
              "<div id=\"df-a9c5caf0-e934-4b04-9cde-6fe220d6fc8d\">\n",
              "  <button class=\"colab-df-quickchart\" onclick=\"quickchart('df-a9c5caf0-e934-4b04-9cde-6fe220d6fc8d')\"\n",
              "            title=\"Suggest charts\"\n",
              "            style=\"display:none;\">\n",
              "\n",
              "<svg xmlns=\"http://www.w3.org/2000/svg\" height=\"24px\"viewBox=\"0 0 24 24\"\n",
              "     width=\"24px\">\n",
              "    <g>\n",
              "        <path d=\"M19 3H5c-1.1 0-2 .9-2 2v14c0 1.1.9 2 2 2h14c1.1 0 2-.9 2-2V5c0-1.1-.9-2-2-2zM9 17H7v-7h2v7zm4 0h-2V7h2v10zm4 0h-2v-4h2v4z\"/>\n",
              "    </g>\n",
              "</svg>\n",
              "  </button>\n",
              "\n",
              "<style>\n",
              "  .colab-df-quickchart {\n",
              "      --bg-color: #E8F0FE;\n",
              "      --fill-color: #1967D2;\n",
              "      --hover-bg-color: #E2EBFA;\n",
              "      --hover-fill-color: #174EA6;\n",
              "      --disabled-fill-color: #AAA;\n",
              "      --disabled-bg-color: #DDD;\n",
              "  }\n",
              "\n",
              "  [theme=dark] .colab-df-quickchart {\n",
              "      --bg-color: #3B4455;\n",
              "      --fill-color: #D2E3FC;\n",
              "      --hover-bg-color: #434B5C;\n",
              "      --hover-fill-color: #FFFFFF;\n",
              "      --disabled-bg-color: #3B4455;\n",
              "      --disabled-fill-color: #666;\n",
              "  }\n",
              "\n",
              "  .colab-df-quickchart {\n",
              "    background-color: var(--bg-color);\n",
              "    border: none;\n",
              "    border-radius: 50%;\n",
              "    cursor: pointer;\n",
              "    display: none;\n",
              "    fill: var(--fill-color);\n",
              "    height: 32px;\n",
              "    padding: 0;\n",
              "    width: 32px;\n",
              "  }\n",
              "\n",
              "  .colab-df-quickchart:hover {\n",
              "    background-color: var(--hover-bg-color);\n",
              "    box-shadow: 0 1px 2px rgba(60, 64, 67, 0.3), 0 1px 3px 1px rgba(60, 64, 67, 0.15);\n",
              "    fill: var(--button-hover-fill-color);\n",
              "  }\n",
              "\n",
              "  .colab-df-quickchart-complete:disabled,\n",
              "  .colab-df-quickchart-complete:disabled:hover {\n",
              "    background-color: var(--disabled-bg-color);\n",
              "    fill: var(--disabled-fill-color);\n",
              "    box-shadow: none;\n",
              "  }\n",
              "\n",
              "  .colab-df-spinner {\n",
              "    border: 2px solid var(--fill-color);\n",
              "    border-color: transparent;\n",
              "    border-bottom-color: var(--fill-color);\n",
              "    animation:\n",
              "      spin 1s steps(1) infinite;\n",
              "  }\n",
              "\n",
              "  @keyframes spin {\n",
              "    0% {\n",
              "      border-color: transparent;\n",
              "      border-bottom-color: var(--fill-color);\n",
              "      border-left-color: var(--fill-color);\n",
              "    }\n",
              "    20% {\n",
              "      border-color: transparent;\n",
              "      border-left-color: var(--fill-color);\n",
              "      border-top-color: var(--fill-color);\n",
              "    }\n",
              "    30% {\n",
              "      border-color: transparent;\n",
              "      border-left-color: var(--fill-color);\n",
              "      border-top-color: var(--fill-color);\n",
              "      border-right-color: var(--fill-color);\n",
              "    }\n",
              "    40% {\n",
              "      border-color: transparent;\n",
              "      border-right-color: var(--fill-color);\n",
              "      border-top-color: var(--fill-color);\n",
              "    }\n",
              "    60% {\n",
              "      border-color: transparent;\n",
              "      border-right-color: var(--fill-color);\n",
              "    }\n",
              "    80% {\n",
              "      border-color: transparent;\n",
              "      border-right-color: var(--fill-color);\n",
              "      border-bottom-color: var(--fill-color);\n",
              "    }\n",
              "    90% {\n",
              "      border-color: transparent;\n",
              "      border-bottom-color: var(--fill-color);\n",
              "    }\n",
              "  }\n",
              "</style>\n",
              "\n",
              "  <script>\n",
              "    async function quickchart(key) {\n",
              "      const quickchartButtonEl =\n",
              "        document.querySelector('#' + key + ' button');\n",
              "      quickchartButtonEl.disabled = true;  // To prevent multiple clicks.\n",
              "      quickchartButtonEl.classList.add('colab-df-spinner');\n",
              "      try {\n",
              "        const charts = await google.colab.kernel.invokeFunction(\n",
              "            'suggestCharts', [key], {});\n",
              "      } catch (error) {\n",
              "        console.error('Error during call to suggestCharts:', error);\n",
              "      }\n",
              "      quickchartButtonEl.classList.remove('colab-df-spinner');\n",
              "      quickchartButtonEl.classList.add('colab-df-quickchart-complete');\n",
              "    }\n",
              "    (() => {\n",
              "      let quickchartButtonEl =\n",
              "        document.querySelector('#df-a9c5caf0-e934-4b04-9cde-6fe220d6fc8d button');\n",
              "      quickchartButtonEl.style.display =\n",
              "        google.colab.kernel.accessAllowed ? 'block' : 'none';\n",
              "    })();\n",
              "  </script>\n",
              "</div>\n",
              "\n",
              "    </div>\n",
              "  </div>\n"
            ],
            "application/vnd.google.colaboratory.intrinsic+json": {
              "type": "dataframe",
              "summary": "{\n  \"name\": \" [y_train, y_valid, y_test]] = resize_display(x_train, y_train, x_test, y_test, pixels)\",\n  \"rows\": 4,\n  \"fields\": [\n    {\n      \"column\": \"train\",\n      \"properties\": {\n        \"dtype\": \"string\",\n        \"num_unique_values\": 4,\n        \"samples\": [\n          \"float32\",\n          \"int32\",\n          [\n            18610,\n            3,\n            48,\n            48\n          ]\n        ],\n        \"semantic_type\": \"\",\n        \"description\": \"\"\n      }\n    },\n    {\n      \"column\": \"valid\",\n      \"properties\": {\n        \"dtype\": \"string\",\n        \"num_unique_values\": 4,\n        \"samples\": [\n          \"float32\",\n          \"int32\",\n          [\n            2326,\n            3,\n            48,\n            48\n          ]\n        ],\n        \"semantic_type\": \"\",\n        \"description\": \"\"\n      }\n    },\n    {\n      \"column\": \"test\",\n      \"properties\": {\n        \"dtype\": \"string\",\n        \"num_unique_values\": 4,\n        \"samples\": [\n          \"float32\",\n          \"int32\",\n          [\n            2326,\n            3,\n            48,\n            48\n          ]\n        ],\n        \"semantic_type\": \"\",\n        \"description\": \"\"\n      }\n    }\n  ]\n}"
            }
          },
          "metadata": {}
        }
      ]
    },
    {
      "cell_type": "code",
      "source": [
        "random_seed=1; batch_size=128;\n",
        "train=TData(x_train,y_train)\n",
        "valid=TData(x_valid,y_valid)\n",
        "test=TData(x_test,y_test)\n",
        "train_loader=tdl(dataset=train,\n",
        "                  batch_size=batch_size,shuffle=True)\n",
        "valid_loader=tdl(dataset=valid,\n",
        "                  batch_size=batch_size,shuffle=True)\n",
        "test_loader=tdl(dataset=test,\n",
        "                 batch_size=batch_size,shuffle=False)\n",
        "display_examples(valid_loader,pixels)\n"
      ],
      "metadata": {
        "colab": {
          "base_uri": "https://localhost:8080/",
          "height": 261
        },
        "id": "5VZnRp2HuaHT",
        "outputId": "83a77496-7a04-4b93-9824-4822bb7bb10c"
      },
      "execution_count": 12,
      "outputs": [
        {
          "output_type": "stream",
          "name": "stdout",
          "text": [
            "Image dimensions:torch.Size([128, 3, 48, 48])\n",
            "Label dimensions:torch.Size([128])\n"
          ]
        },
        {
          "output_type": "display_data",
          "data": {
            "text/plain": [
              "<Figure size 1100x400 with 5 Axes>"
            ],
            "image/png": "[encoded data removed]"
          },
          "metadata": {}
        }
      ]
    },
    {
      "cell_type": "code",
      "source": [
        "#using VGG19 training\n",
        "torch.manual_seed(random_seed)\n",
        "num_classes=2;learning_rate=.001\n",
        "\n",
        "model=VGG19(num_classes); model.to(dev)\n",
        "optimizer=torch.optim.Adam(model.parameters(),\n",
        "                           lr=learning_rate)"
      ],
      "metadata": {
        "id": "yrToyxGsvb2M"
      },
      "execution_count": 13,
      "outputs": []
    },
    {
      "cell_type": "code",
      "source": [
        "%train_run 5 #takes time to run this around 2-3 hours , make sure you know it"
      ],
      "metadata": {
        "colab": {
          "base_uri": "https://localhost:8080/"
        },
        "id": "hTXj4mVqw2Es",
        "outputId": "fd9257c3-2b09-4f08-ab9e-e1b213b7c36b"
      },
      "execution_count": 15,
      "outputs": [
        {
          "output_type": "stream",
          "name": "stdout",
          "text": [
            "Epochs:001/005 |Batch:000/145|Cost:68331.6094\n",
            "Epoch:001/005 train acc:49.61% valid acc:49.74%\n",
            "Epochs:001/005 |Batch:050/145|Cost:0.6897\n",
            "Epoch:001/005 train acc:51.42% valid acc:51.76%\n",
            "Epochs:001/005 |Batch:100/145|Cost:0.6908\n",
            "Epoch:001/005 train acc:51.49% valid acc:51.25%\n",
            "Epochs:002/005 |Batch:000/145|Cost:0.6955\n",
            "Epoch:002/005 train acc:50.77% valid acc:50.95%\n",
            "Epochs:002/005 |Batch:050/145|Cost:0.6829\n",
            "Epoch:002/005 train acc:50.40% valid acc:50.26%\n",
            "Epochs:002/005 |Batch:100/145|Cost:0.6837\n",
            "Epoch:002/005 train acc:56.70% valid acc:56.58%\n",
            "Epochs:003/005 |Batch:000/145|Cost:0.6959\n",
            "Epoch:003/005 train acc:60.32% valid acc:59.63%\n",
            "Epochs:003/005 |Batch:050/145|Cost:0.6741\n",
            "Epoch:003/005 train acc:60.60% valid acc:60.49%\n",
            "Epochs:003/005 |Batch:100/145|Cost:0.6628\n",
            "Epoch:003/005 train acc:58.77% valid acc:58.73%\n",
            "Epochs:004/005 |Batch:000/145|Cost:0.6539\n",
            "Epoch:004/005 train acc:59.84% valid acc:59.29%\n",
            "Epochs:004/005 |Batch:050/145|Cost:0.7590\n",
            "Epoch:004/005 train acc:55.20% valid acc:54.99%\n",
            "Epochs:004/005 |Batch:100/145|Cost:0.6657\n",
            "Epoch:004/005 train acc:58.50% valid acc:58.00%\n",
            "Epochs:005/005 |Batch:000/145|Cost:0.6837\n",
            "Epoch:005/005 train acc:60.23% valid acc:59.85%\n",
            "Epochs:005/005 |Batch:050/145|Cost:0.6586\n",
            "Epoch:005/005 train acc:61.36% valid acc:61.22%\n",
            "Epochs:005/005 |Batch:100/145|Cost:0.6925\n",
            "Epoch:005/005 train acc:61.79% valid acc:61.22%\n"
          ]
        }
      ]
    },
    {
      "cell_type": "code",
      "source": [
        "%print_acc 1"
      ],
      "metadata": {
        "colab": {
          "base_uri": "https://localhost:8080/"
        },
        "id": "W-iHopdnw5M1",
        "outputId": "1cf7a406-ae54-4f7f-b820-d78e461b0cd6"
      },
      "execution_count": 16,
      "outputs": [
        {
          "output_type": "stream",
          "name": "stdout",
          "text": [
            "Train accuracy:53.6378%\n",
            "Valid accuracy:52.6655%\n",
            "Test accuracy:51.2468%\n"
          ]
        }
      ]
    }
  ]
}