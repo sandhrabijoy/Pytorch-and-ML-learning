{
  "nbformat": 4,
  "nbformat_minor": 0,
  "metadata": {
    "colab": {
      "provenance": [],
      "authorship_tag": "ABX9TyMpZrse0OHIrFYANPq71me5",
      "include_colab_link": true
    },
    "kernelspec": {
      "name": "python3",
      "display_name": "Python 3"
    },
    "language_info": {
      "name": "python"
    }
  },
  "cells": [
    {
      "cell_type": "markdown",
      "metadata": {
        "id": "view-in-github",
        "colab_type": "text"
      },
      "source": [
        "<a href=\"https://colab.research.google.com/github/sandhrabijoy/Pytorch-and-ML-learning/blob/master/MCQmodel_NLP.ipynb\" target=\"_parent\"><img src=\"https://colab.research.google.com/assets/colab-badge.svg\" alt=\"Open In Colab\"/></a>"
      ]
    },
    {
      "cell_type": "code",
      "execution_count": 15,
      "metadata": {
        "colab": {
          "base_uri": "https://localhost:8080/"
        },
        "id": "41bsmthjue5u",
        "outputId": "8696aaac-20ef-457a-a54f-3439a0c260e8"
      },
      "outputs": [
        {
          "output_type": "stream",
          "name": "stdout",
          "text": [
            "Requirement already satisfied: transformers in /usr/local/lib/python3.11/dist-packages (4.48.3)\n",
            "Requirement already satisfied: torch in /usr/local/lib/python3.11/dist-packages (2.5.1+cu124)\n",
            "Requirement already satisfied: nltk in /usr/local/lib/python3.11/dist-packages (3.9.1)\n",
            "Requirement already satisfied: sentence-transformers in /usr/local/lib/python3.11/dist-packages (3.4.1)\n",
            "Requirement already satisfied: filelock in /usr/local/lib/python3.11/dist-packages (from transformers) (3.17.0)\n",
            "Requirement already satisfied: huggingface-hub<1.0,>=0.24.0 in /usr/local/lib/python3.11/dist-packages (from transformers) (0.28.1)\n",
            "Requirement already satisfied: numpy>=1.17 in /usr/local/lib/python3.11/dist-packages (from transformers) (1.26.4)\n",
            "Requirement already satisfied: packaging>=20.0 in /usr/local/lib/python3.11/dist-packages (from transformers) (24.2)\n",
            "Requirement already satisfied: pyyaml>=5.1 in /usr/local/lib/python3.11/dist-packages (from transformers) (6.0.2)\n",
            "Requirement already satisfied: regex!=2019.12.17 in /usr/local/lib/python3.11/dist-packages (from transformers) (2024.11.6)\n",
            "Requirement already satisfied: requests in /usr/local/lib/python3.11/dist-packages (from transformers) (2.32.3)\n",
            "Requirement already satisfied: tokenizers<0.22,>=0.21 in /usr/local/lib/python3.11/dist-packages (from transformers) (0.21.0)\n",
            "Requirement already satisfied: safetensors>=0.4.1 in /usr/local/lib/python3.11/dist-packages (from transformers) (0.5.3)\n",
            "Requirement already satisfied: tqdm>=4.27 in /usr/local/lib/python3.11/dist-packages (from transformers) (4.67.1)\n",
            "Requirement already satisfied: typing-extensions>=4.8.0 in /usr/local/lib/python3.11/dist-packages (from torch) (4.12.2)\n",
            "Requirement already satisfied: networkx in /usr/local/lib/python3.11/dist-packages (from torch) (3.4.2)\n",
            "Requirement already satisfied: jinja2 in /usr/local/lib/python3.11/dist-packages (from torch) (3.1.5)\n",
            "Requirement already satisfied: fsspec in /usr/local/lib/python3.11/dist-packages (from torch) (2024.10.0)\n",
            "Requirement already satisfied: nvidia-cuda-nvrtc-cu12==12.4.127 in /usr/local/lib/python3.11/dist-packages (from torch) (12.4.127)\n",
            "Requirement already satisfied: nvidia-cuda-runtime-cu12==12.4.127 in /usr/local/lib/python3.11/dist-packages (from torch) (12.4.127)\n",
            "Requirement already satisfied: nvidia-cuda-cupti-cu12==12.4.127 in /usr/local/lib/python3.11/dist-packages (from torch) (12.4.127)\n",
            "Requirement already satisfied: nvidia-cudnn-cu12==9.1.0.70 in /usr/local/lib/python3.11/dist-packages (from torch) (9.1.0.70)\n",
            "Requirement already satisfied: nvidia-cublas-cu12==12.4.5.8 in /usr/local/lib/python3.11/dist-packages (from torch) (12.4.5.8)\n",
            "Requirement already satisfied: nvidia-cufft-cu12==11.2.1.3 in /usr/local/lib/python3.11/dist-packages (from torch) (11.2.1.3)\n",
            "Requirement already satisfied: nvidia-curand-cu12==10.3.5.147 in /usr/local/lib/python3.11/dist-packages (from torch) (10.3.5.147)\n",
            "Requirement already satisfied: nvidia-cusolver-cu12==11.6.1.9 in /usr/local/lib/python3.11/dist-packages (from torch) (11.6.1.9)\n",
            "Requirement already satisfied: nvidia-cusparse-cu12==12.3.1.170 in /usr/local/lib/python3.11/dist-packages (from torch) (12.3.1.170)\n",
            "Requirement already satisfied: nvidia-nccl-cu12==2.21.5 in /usr/local/lib/python3.11/dist-packages (from torch) (2.21.5)\n",
            "Requirement already satisfied: nvidia-nvtx-cu12==12.4.127 in /usr/local/lib/python3.11/dist-packages (from torch) (12.4.127)\n",
            "Requirement already satisfied: nvidia-nvjitlink-cu12==12.4.127 in /usr/local/lib/python3.11/dist-packages (from torch) (12.4.127)\n",
            "Requirement already satisfied: triton==3.1.0 in /usr/local/lib/python3.11/dist-packages (from torch) (3.1.0)\n",
            "Requirement already satisfied: sympy==1.13.1 in /usr/local/lib/python3.11/dist-packages (from torch) (1.13.1)\n",
            "Requirement already satisfied: mpmath<1.4,>=1.1.0 in /usr/local/lib/python3.11/dist-packages (from sympy==1.13.1->torch) (1.3.0)\n",
            "Requirement already satisfied: click in /usr/local/lib/python3.11/dist-packages (from nltk) (8.1.8)\n",
            "Requirement already satisfied: joblib in /usr/local/lib/python3.11/dist-packages (from nltk) (1.4.2)\n",
            "Requirement already satisfied: scikit-learn in /usr/local/lib/python3.11/dist-packages (from sentence-transformers) (1.6.1)\n",
            "Requirement already satisfied: scipy in /usr/local/lib/python3.11/dist-packages (from sentence-transformers) (1.13.1)\n",
            "Requirement already satisfied: Pillow in /usr/local/lib/python3.11/dist-packages (from sentence-transformers) (11.1.0)\n",
            "Requirement already satisfied: MarkupSafe>=2.0 in /usr/local/lib/python3.11/dist-packages (from jinja2->torch) (3.0.2)\n",
            "Requirement already satisfied: charset-normalizer<4,>=2 in /usr/local/lib/python3.11/dist-packages (from requests->transformers) (3.4.1)\n",
            "Requirement already satisfied: idna<4,>=2.5 in /usr/local/lib/python3.11/dist-packages (from requests->transformers) (3.10)\n",
            "Requirement already satisfied: urllib3<3,>=1.21.1 in /usr/local/lib/python3.11/dist-packages (from requests->transformers) (2.3.0)\n",
            "Requirement already satisfied: certifi>=2017.4.17 in /usr/local/lib/python3.11/dist-packages (from requests->transformers) (2025.1.31)\n",
            "Requirement already satisfied: threadpoolctl>=3.1.0 in /usr/local/lib/python3.11/dist-packages (from scikit-learn->sentence-transformers) (3.5.0)\n"
          ]
        }
      ],
      "source": [
        "pip install transformers torch nltk sentence-transformers"
      ]
    },
    {
      "cell_type": "code",
      "source": [
        "import random\n",
        "import nltk\n",
        "import torch\n",
        "from transformers import pipeline, T5Tokenizer, T5ForConditionalGeneration\n",
        "from nltk.corpus import stopwords\n",
        "from sentence_transformers import SentenceTransformer, util"
      ],
      "metadata": {
        "id": "g63zIYgjurze"
      },
      "execution_count": 16,
      "outputs": []
    },
    {
      "cell_type": "code",
      "source": [
        "nlk = nltk.download('punkt')"
      ],
      "metadata": {
        "colab": {
          "base_uri": "https://localhost:8080/"
        },
        "id": "tbt308pZvNjN",
        "outputId": "65eda7b2-2130-4186-8bf6-b74c8909f6fe"
      },
      "execution_count": 17,
      "outputs": [
        {
          "output_type": "stream",
          "name": "stderr",
          "text": [
            "[nltk_data] Downloading package punkt to /root/nltk_data...\n",
            "[nltk_data]   Package punkt is already up-to-date!\n"
          ]
        }
      ]
    },
    {
      "cell_type": "code",
      "source": [
        "question_generator=pipeline('text2text-generation',model='valhalla/t5-base-qg-hl')\n",
        "qa_pipeline=pipeline('question-answering',model='distilbert-base-cased-distilled-squad')\n",
        "similarity_model=SentenceTransformer('all-MiniLM-L6-v2')"
      ],
      "metadata": {
        "colab": {
          "base_uri": "https://localhost:8080/"
        },
        "id": "nQYYoTQdv4wB",
        "outputId": "185f4207-976b-47f7-a8ce-2a5cf7e35bb9"
      },
      "execution_count": 18,
      "outputs": [
        {
          "output_type": "stream",
          "name": "stderr",
          "text": [
            "Device set to use cpu\n",
            "Device set to use cpu\n"
          ]
        }
      ]
    },
    {
      "cell_type": "code",
      "source": [
        "def generate_mcqs(text, num_questions=3):\n",
        "    sentences = nltk.sent_tokenize(text)\n",
        "    mcqs = []\n",
        "\n",
        "    for _ in range(num_questions):\n",
        "        # Select a random sentence\n",
        "        sentence = random.choice(sentences)\n",
        "\n",
        "        # Generate a question from the sentence\n",
        "        question_input = f\"highlight: {sentence} </s>\"\n",
        "        question = question_generator(question_input, max_length=64, do_sample=False)[0][\"generated_text\"]\n",
        "\n",
        "        # Extract answer using QA model\n",
        "        answer = qa_pipeline(question=question, context=sentence)[\"answer\"]\n",
        "\n",
        "        # Generate options (distractors)\n",
        "        options = [answer] + [qa_pipeline(question=\"What is another topic with similar context of question?\", context=s)[\"answer\"] for s in sentences[:3]]\n",
        "        options = list(set(filter(None, options)))  # Remove duplicates and empty values\n",
        "        random.shuffle(options)\n",
        "\n",
        "        mcqs.append({\"question\": question, \"choices\": options, \"answer\": answer})\n",
        "\n",
        "    return mcqs\n"
      ],
      "metadata": {
        "id": "E1xTezmwwceX"
      },
      "execution_count": 19,
      "outputs": []
    },
    {
      "cell_type": "code",
      "source": [
        "text_input=input(\"\\nEnter the context:\\n\")"
      ],
      "metadata": {
        "colab": {
          "base_uri": "https://localhost:8080/"
        },
        "id": "xnOTm-0jyJsN",
        "outputId": "23d4f578-47cc-406d-af35-e1252ee6a379"
      },
      "execution_count": 20,
      "outputs": [
        {
          "name": "stdout",
          "output_type": "stream",
          "text": [
            "\n",
            "Enter the context:\n",
            "The History and Impact of the Internet The Internet has transformed the world in ways unimaginable just a few decades ago. Originally developed as a military project, it has now become an essential part of daily life, enabling instant global communication, access to unlimited information, and new opportunities for businesses, education, and entertainment.  The origins of the Internet can be traced back to the late 1960s when the U.S. Department of Defense developed ARPANET (Advanced Research Projects Agency Network). The goal of ARPANET was to create a decentralized network that could continue functioning even if parts of it were destroyed. This innovation introduced the concept of packet switching, allowing data to be sent in small chunks and reassembled at its destination.  By the 1980s, ARPANET had evolved into a larger system that connected various universities and research centers. The introduction of the Domain Name System (DNS) in 1983 simplified web navigation by replacing complex numerical IP addresses with human-friendly names like \"google.com\" or \"bbc.co.uk.\" However, the real breakthrough came in 1989 when Tim Berners-Lee, a British scientist, invented the World Wide Web (WWW) while working at CERN. His creation allowed for the linking of documents via hypertext, making it easy to access and share information across different networks.  The 1990s witnessed an Internet boom, driven by the commercialization of the web. Companies like Yahoo, Amazon, and Google emerged, offering users search engines, e-commerce platforms, and online services that revolutionized various industries. Email became the primary mode of communication, replacing traditional letters and faxes. As broadband technology improved, the Internet became faster and more accessible to the general public.  By the early 2000s, social media platforms such as Facebook, Twitter, and LinkedIn reshaped human interaction. People could now connect with friends, share ideas, and engage with global communities instantly. The rise of YouTube in 2005 popularized video content, paving the way for influencers, digital marketing, and new forms of entertainment.  The Internet also had a profound impact on education. Online courses, virtual classrooms, and digital libraries provided students and professionals access to high-quality learning materials from anywhere in the world. Websites like Khan Academy, Coursera, and Udemy made it easier for people to learn new skills, making education more accessible and affordable.  E-commerce witnessed explosive growth as companies like Amazon, eBay, and Alibaba allowed consumers to buy products with just a few clicks. Digital payment systems like PayPal, Apple Pay, and cryptocurrency further simplified transactions, making global commerce faster and more secure.  Despite its many benefits, the Internet also brought challenges such as cybersecurity threats, data privacy concerns, and the spread of misinformation. Governments and organizations have had to implement policies and regulations to address issues like hacking, identity theft, and online fraud.  Today, the Internet continues to evolve with emerging technologies like artificial intelligence, 5G, and the Internet of Things (IoT). It remains a powerful tool that connects the world, fuels innovation, and shapes the future of society.\n"
          ]
        }
      ]
    },
    {
      "cell_type": "code",
      "source": [
        "nltk.download('punkt_tab')"
      ],
      "metadata": {
        "colab": {
          "base_uri": "https://localhost:8080/"
        },
        "id": "9ecFcJ9ozKyg",
        "outputId": "c5f6830d-29ac-4687-ca61-cb259d4c4daf"
      },
      "execution_count": 23,
      "outputs": [
        {
          "output_type": "stream",
          "name": "stderr",
          "text": [
            "[nltk_data] Downloading package punkt_tab to /root/nltk_data...\n",
            "[nltk_data]   Unzipping tokenizers/punkt_tab.zip.\n"
          ]
        },
        {
          "output_type": "execute_result",
          "data": {
            "text/plain": [
              "True"
            ]
          },
          "metadata": {},
          "execution_count": 23
        }
      ]
    },
    {
      "cell_type": "code",
      "source": [
        "mcq_questions=generate_mcqs(text_input)"
      ],
      "metadata": {
        "id": "TnfFOA-hyP32"
      },
      "execution_count": 24,
      "outputs": []
    },
    {
      "cell_type": "code",
      "source": [
        "for idx, mcq in enumerate(mcq_questions, 1):\n",
        "    print(f\"\\nQ{idx}: {mcq['question']}\")\n",
        "    for i, choice in enumerate(mcq['choices'], 1):\n",
        "        print(f\"   {i}. {choice}\")\n",
        "    print(f\"Answer: {mcq['answer']}\\n\")"
      ],
      "metadata": {
        "colab": {
          "base_uri": "https://localhost:8080/"
        },
        "id": "GUYMpewZzfpa",
        "outputId": "81019ea5-129e-4768-944d-631848dc7647"
      },
      "execution_count": 25,
      "outputs": [
        {
          "output_type": "stream",
          "name": "stdout",
          "text": [
            "\n",
            "Q1: What was the name of the domain name system introduced in 1983?\n",
            "   1. education, and entertainment\n",
            "   2. Domain Name System\n",
            "   3. Internet\n",
            "   4. The History and Impact of the Internet\n",
            "Answer: Domain Name System\n",
            "\n",
            "\n",
            "Q2: What was the goal of ARPANET?\n",
            "   1. The History and Impact of the Internet\n",
            "   2. to create a decentralized network that could continue functioning\n",
            "   3. Internet\n",
            "   4. education, and entertainment\n",
            "Answer: to create a decentralized network that could continue functioning\n",
            "\n",
            "\n",
            "Q3: What is the main benefit of the Internet?\n",
            "   1. Internet\n",
            "   2. education, and entertainment\n",
            "   3. instant global communication, access to unlimited information\n",
            "   4. The History and Impact of the Internet\n",
            "Answer: instant global communication, access to unlimited information\n",
            "\n"
          ]
        }
      ]
    },
    {
      "cell_type": "code",
      "source": [],
      "metadata": {
        "id": "pe4xrkjwzn5Y"
      },
      "execution_count": null,
      "outputs": []
    }
  ]
}